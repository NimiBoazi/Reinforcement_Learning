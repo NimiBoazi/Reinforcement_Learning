{
  "cells": [
    {
      "cell_type": "markdown",
      "metadata": {
        "id": "SLapsBtwOO6m"
      },
      "source": [
        "# Final Semester Project - DEEP Reinforcements Learning\n",
        "\n",
        "Student 1: Raz Atiya\n",
        "Student 2: Nimrod Boazi"
      ]
    },
    {
      "cell_type": "markdown",
      "metadata": {
        "id": "4-OzvtfyOYL8"
      },
      "source": [
        "## Pre-Requisit"
      ]
    },
    {
      "cell_type": "markdown",
      "metadata": {
        "id": "fUNptoCrObZs"
      },
      "source": [
        "## Installs"
      ]
    },
    {
      "cell_type": "code",
      "execution_count": null,
      "metadata": {
        "id": "-YTEVlS-OAQ-"
      },
      "outputs": [],
      "source": [
        "%%capture\n",
        "!sudo apt-get update\n",
        "!sudo apt-get install -y xvfb ffmpeg freeglut3-dev\n",
        "!pip install 'imageio==2.4.0'\n",
        "!apt-get install python-opengl -y\n",
        "!apt install xvfb -y\n",
        "!pip install pyvirtualdisplay\n",
        "!pip install piglet\n",
        "!pip install gymnasium\n",
        "!apt-get install python-opengl -y\n",
        "!apt install xvfb -y\n",
        "!pip install -U --no-cache-dir gdown --pre\n",
        "!pip install minigrid\n",
        "!wget -q https://www.dropbox.com/scl/fi/jhkb2y3jw8wgin9e26ooc/MiniGrid-MultiRoom-N6-v0_vid.mp4?rlkey=qtkrmmbk9aiote5z7w4bx6ixi&st=zbr4gk21&dl=1 -O content/MiniGrid-MultiRoom-N6-v0_vid.mp4\n"
      ]
    },
    {
      "cell_type": "markdown",
      "metadata": {
        "id": "QKGS7JQKYGOv"
      },
      "source": []
    },
    {
      "cell_type": "markdown",
      "metadata": {
        "id": "SEFhAxcrOhB1"
      },
      "source": [
        "## Imports"
      ]
    },
    {
      "cell_type": "code",
      "execution_count": null,
      "metadata": {
        "id": "peOGhIA-iLk7"
      },
      "outputs": [],
      "source": [
        "from pyvirtualdisplay import Display\n",
        "from IPython.display import HTML\n",
        "from IPython import display as ipythondisplay\n",
        "import pyvirtualdisplay\n",
        "import IPython\n",
        "import base64\n",
        "import gymnasium\n",
        "import minigrid\n",
        "from minigrid.wrappers import RGBImgObsWrapper, RGBImgPartialObsWrapper, ImgObsWrapper, FullyObsWrapper, RGBImgPartialObsWrapper\n",
        "import matplotlib.pyplot as plt\n",
        "import imageio\n",
        "import numpy as np\n",
        "import cv2\n",
        "from torch.distributions.categorical import Categorical"
      ]
    },
    {
      "cell_type": "code",
      "execution_count": null,
      "metadata": {
        "id": "diKi1gEQtM3M"
      },
      "outputs": [],
      "source": [
        "# Constants for the environemnt configuration do no change the values\n",
        "highlight = False\n",
        "render_mode = \"rgb_array\""
      ]
    },
    {
      "cell_type": "markdown",
      "metadata": {
        "id": "LnksgjjqOq02"
      },
      "source": [
        "## Display utils\n",
        "The cell below contains the video display configuration. No need to make changes here."
      ]
    },
    {
      "cell_type": "code",
      "execution_count": null,
      "metadata": {
        "id": "ceUl4Q9JOzpO"
      },
      "outputs": [],
      "source": [
        "def embed_mp4(filename):\n",
        "  \"\"\"Embeds an mp4 file in the notebook.\"\"\"\n",
        "  video = open(filename,'rb').read()\n",
        "  b64 = base64.b64encode(video)\n",
        "  tag = '''\n",
        "  <video width=\"640\" height=\"480\" controls>\n",
        "    <source src=\"data:video/mp4;base64,{0}\" type=\"video/mp4\">\n",
        "  Your browser does not support the video tag.\n",
        "  </video>'''.format(b64.decode())\n",
        "\n",
        "  return IPython.display.HTML(tag)\n",
        "display = pyvirtualdisplay.Display(visible=0, size=(1400, 900)).start()"
      ]
    },
    {
      "cell_type": "code",
      "source": [
        "import matplotlib.pyplot as plt\n",
        "import numpy as np\n",
        "\n",
        "def show_image(img, title=\"Image\"):\n",
        "    \"\"\"\n",
        "    Displays an image, automatically handling (56, 56, 3) and (3, 56, 56) formats.\n",
        "\n",
        "    Args:\n",
        "        img (numpy.ndarray): Image in shape (56, 56, 3) or (3, 56, 56).\n",
        "        title (str): Title of the image.\n",
        "    \"\"\"\n",
        "    if img.shape == (3, 56, 56):  # Convert (C, H, W) -> (H, W, C) for display\n",
        "        img = np.transpose(img, (1, 2, 0))\n",
        "    elif img.shape != (56, 56, 3):\n",
        "        raise ValueError(f\"Unexpected image shape: {img.shape}. Expected (56, 56, 3) or (3, 56, 56).\")\n",
        "\n",
        "    plt.figure(figsize=(3, 3))\n",
        "    plt.imshow(img.astype(np.uint8))  # Ensure correct display format\n",
        "    plt.title(title)\n",
        "    plt.axis(\"off\")\n",
        "    plt.show()\n"
      ],
      "metadata": {
        "id": "uYzOrR0T99MV"
      },
      "execution_count": null,
      "outputs": []
    },
    {
      "cell_type": "markdown",
      "source": [
        "## Validate Functions"
      ],
      "metadata": {
        "id": "qXXgID0Z_oFG"
      }
    },
    {
      "cell_type": "code",
      "source": [
        "def create_video_DQN(agent, file_name):\n",
        "    video_filename = f\"/content/{file_name}.mp4\"\n",
        "    with imageio.get_writer(video_filename, fps=10) as video:\n",
        "\n",
        "      double_with_stacking_rewards = []\n",
        "      double_with_stacking_steps_array = []\n",
        "\n",
        "      early_termination_count = 0\n",
        "\n",
        "      max_steps = 125\n",
        "      for i in range(1):\n",
        "          done = False\n",
        "          raw_observation, _ = env.reset()\n",
        "          observation = preprocess_frame_stack(raw_observation, raw_observation, raw_observation, raw_observation)\n",
        "\n",
        "          # Decalare Queues\n",
        "          state_queue = deque(maxlen=120)\n",
        "          action_queue = deque(maxlen=120)\n",
        "          pre_process_state_queue = deque(maxlen=4)\n",
        "\n",
        "          #\n",
        "          state_queue.append(raw_observation)\n",
        "\n",
        "          for j in range(4):\n",
        "            pre_process_state_queue.append(raw_observation)\n",
        "\n",
        "          total_reward = 0\n",
        "          steps = 0\n",
        "          while steps <= max_steps:\n",
        "              steps += 1\n",
        "              action = agent.choose_best_action(observation)\n",
        "              #\n",
        "              action_queue.append(action)\n",
        "              raw_observation_, reward, done, truncated  , _ = env.step(action)\n",
        "\n",
        "              #\n",
        "              state_queue.append(raw_observation_)\n",
        "              pre_process_state_queue.append(raw_observation_)\n",
        "              #\n",
        "              reward = reward_shaping(state_queue, done, truncated, action_queue)\n",
        "              observation_ = preprocess_frame_stack(pre_process_state_queue[-4], pre_process_state_queue[-3], pre_process_state_queue[-2], pre_process_state_queue[-1])\n",
        "              total_reward += reward\n",
        "\n",
        "              observation = observation_\n",
        "\n",
        "              video.append_data(env.render())\n",
        "\n",
        "              if done or truncated:\n",
        "                break\n",
        "\n",
        "          double_with_stacking_rewards.append(reward)\n",
        "          double_with_stacking_steps_array.append(steps)\n",
        "      return double_with_stacking_rewards, double_with_stacking_steps_array"
      ],
      "metadata": {
        "id": "FpkNEEZuc_yN"
      },
      "execution_count": null,
      "outputs": []
    },
    {
      "cell_type": "code",
      "source": [
        "def validate_agent_DQN(agent, num_of_runs, file_name):\n",
        "\n",
        "    double_with_stacking_rewards = []\n",
        "    double_with_stacking_steps_array = []\n",
        "\n",
        "\n",
        "    early_termination_count = 0\n",
        "\n",
        "    max_steps = 125\n",
        "    for i in range(num_of_runs):\n",
        "        done = False\n",
        "        raw_observation, _ = env.reset()\n",
        "        observation = preprocess_frame_stack(raw_observation, raw_observation, raw_observation, raw_observation)\n",
        "\n",
        "        # Decalare Queues\n",
        "        state_queue = deque(maxlen=120)\n",
        "        action_queue = deque(maxlen=120)\n",
        "        pre_process_state_queue = deque(maxlen=4)\n",
        "\n",
        "        #\n",
        "        state_queue.append(raw_observation)\n",
        "\n",
        "        for j in range(4):\n",
        "          pre_process_state_queue.append(raw_observation)\n",
        "\n",
        "        total_reward = 0\n",
        "        steps = 0\n",
        "        while steps <= max_steps:\n",
        "            steps += 1\n",
        "            action = agent.choose_best_action(observation)\n",
        "            #\n",
        "            action_queue.append(action)\n",
        "            raw_observation_, reward, done, truncated  , _ = env.step(action)\n",
        "\n",
        "            #\n",
        "            state_queue.append(raw_observation_)\n",
        "            pre_process_state_queue.append(raw_observation_)\n",
        "            #\n",
        "            reward = reward_shaping(state_queue, done, truncated, action_queue)\n",
        "            observation_ = preprocess_frame_stack(pre_process_state_queue[-4], pre_process_state_queue[-3], pre_process_state_queue[-2], pre_process_state_queue[-1])\n",
        "            total_reward += reward\n",
        "\n",
        "            observation = observation_\n",
        "\n",
        "            if done or truncated:\n",
        "              break\n",
        "\n",
        "        double_with_stacking_rewards.append(reward)\n",
        "        double_with_stacking_steps_array.append(steps)\n",
        "\n",
        "    return double_with_stacking_rewards, double_with_stacking_steps_array\n",
        "\n"
      ],
      "metadata": {
        "id": "EC5Ji_uX_qYA"
      },
      "execution_count": null,
      "outputs": []
    },
    {
      "cell_type": "code",
      "source": [
        "def create_video_PPO(agent, file_name):\n",
        "    video_filename = f\"/content/{file_name}.mp4\"\n",
        "    with imageio.get_writer(video_filename, fps=10) as video:\n",
        "          avg_score = 0\n",
        "          n_steps = 0\n",
        "\n",
        "          score_history = []\n",
        "          steps_history = []\n",
        "          for i in range(1):\n",
        "\n",
        "              raw_observation, _ = env.reset()\n",
        "              observation = preprocess_observation_check(raw_observation)\n",
        "              done = False\n",
        "              truncated = False\n",
        "              score = 0\n",
        "              ep_steps = 0\n",
        "\n",
        "              # Decalare Queues\n",
        "              state_queue = deque(maxlen=120)\n",
        "              action_queue = deque(maxlen=120)\n",
        "              state_queue.append(raw_observation)\n",
        "\n",
        "              while not (done or truncated):  # Ensure the episode terminates properly\n",
        "                  action, val = agent.choose_best_action(observation)\n",
        "                  action_queue.append(action)\n",
        "                  raw_observation_, reward, done, truncated, _ = env.step(action)\n",
        "\n",
        "                  state_queue.append(raw_observation_)\n",
        "\n",
        "                  observation_ = preprocess_observation_check(raw_observation_)\n",
        "\n",
        "                  n_steps += 1\n",
        "                  ep_steps += 1\n",
        "                  score += reward  # Accumulate reward\n",
        "\n",
        "                  observation = observation_\n",
        "\n",
        "                  video.append_data(env.render())\n",
        "\n",
        "          return score_history, steps_history"
      ],
      "metadata": {
        "id": "hBl9x8lmeUoW"
      },
      "execution_count": null,
      "outputs": []
    },
    {
      "cell_type": "code",
      "source": [
        "def validate_agent_PPO(agent, num_of_runs, file_name):\n",
        "    avg_score = 0\n",
        "    n_steps = 0\n",
        "\n",
        "    score_history = []\n",
        "    steps_history = []\n",
        "    for i in range(num_of_runs):\n",
        "\n",
        "        raw_observation, _ = env.reset()\n",
        "        observation = preprocess_observation_check(raw_observation)\n",
        "        done = False\n",
        "        truncated = False\n",
        "        score = 0\n",
        "        ep_steps = 0\n",
        "\n",
        "        # Decalare Queues\n",
        "        state_queue = deque(maxlen=120)\n",
        "        action_queue = deque(maxlen=120)\n",
        "        state_queue.append(raw_observation)\n",
        "\n",
        "        while not (done or truncated):  # Ensure the episode terminates properly\n",
        "            action, val = agent.choose_best_action(observation)\n",
        "            action_queue.append(action)\n",
        "            raw_observation_, reward, done, truncated, _ = env.step(action)\n",
        "\n",
        "            state_queue.append(raw_observation_)\n",
        "\n",
        "            observation_ = preprocess_observation_check(raw_observation_)\n",
        "\n",
        "            n_steps += 1\n",
        "            ep_steps += 1\n",
        "            score += reward  # Accumulate reward\n",
        "\n",
        "            observation = observation_\n",
        "\n",
        "        score_history.append(score)\n",
        "        steps_history.append(ep_steps)\n",
        "\n",
        "    return score_history, steps_history"
      ],
      "metadata": {
        "id": "3rVkOZc5FfPN"
      },
      "execution_count": null,
      "outputs": []
    },
    {
      "cell_type": "markdown",
      "metadata": {
        "id": "xuV-b0FFyII5"
      },
      "source": [
        "## Visualization Functions"
      ]
    },
    {
      "cell_type": "code",
      "execution_count": null,
      "metadata": {
        "id": "iZe-FxlqyY9B"
      },
      "outputs": [],
      "source": [
        "import numpy as np\n",
        "import matplotlib.pyplot as plt\n",
        "\n",
        "def moving_avg(data, window):\n",
        "    \"\"\"\n",
        "    Computes the moving average of a given data array.\n",
        "\n",
        "    Args:\n",
        "        data (np.array): Input data.\n",
        "        window (int): Window size for smoothing.\n",
        "\n",
        "    Returns:\n",
        "        np.array: Smoothed data using a moving average.\n",
        "    \"\"\"\n",
        "    if len(data) < window:\n",
        "        return np.full(len(data), np.mean(data))  # Handle small arrays\n",
        "    return np.convolve(data, np.ones(window) / window, mode='valid')\n",
        "\n",
        "def plot_training_rewards(rewards, window=100):\n",
        "    \"\"\"\n",
        "    Plots the training progress showing episode rewards.\n",
        "\n",
        "    Args:\n",
        "        rewards (np.array): Rewards per episode (float values).\n",
        "        window (int): Window size for moving average smoothing.\n",
        "    \"\"\"\n",
        "    if not isinstance(rewards, (list, np.ndarray)):\n",
        "        raise TypeError(\"'rewards' must be a list or NumPy array.\")\n",
        "\n",
        "    rewards = np.array(rewards, dtype=float)\n",
        "    if len(rewards) == 0:\n",
        "        raise ValueError(\"Error: 'rewards' must be a non-empty array.\")\n",
        "\n",
        "    window = min(len(rewards), window)  # Ensure window does not exceed array length\n",
        "    avg_rewards = moving_avg(rewards, window)\n",
        "    avg_x_rewards = np.arange(len(avg_rewards))\n",
        "\n",
        "    plt.figure(figsize=(12, 5), dpi=100)\n",
        "    plt.plot(np.arange(len(rewards)), rewards, label=\"Episode Reward\", color=\"gray\", alpha=0.3)\n",
        "    plt.plot(avg_x_rewards, avg_rewards, label=f\"Moving Avg ({window})\", color=\"crimson\", linewidth=2)\n",
        "    plt.fill_between(avg_x_rewards, avg_rewards * 0.9, avg_rewards * 1.1, color=\"crimson\", alpha=0.2)\n",
        "    plt.title(\"Training Progress: Episode Rewards\", fontsize=14, fontweight=\"bold\")\n",
        "    plt.xlabel(\"Episode\")\n",
        "    plt.ylabel(\"Reward\")\n",
        "    plt.legend()\n",
        "    plt.grid(True, linestyle=\"--\", alpha=0.6)\n",
        "    plt.show()\n",
        "\n",
        "def plot_training_steps(steps, window=100):\n",
        "    \"\"\"\n",
        "    Plots the training progress showing steps per episode.\n",
        "\n",
        "    Args:\n",
        "        steps (np.array): Steps taken per episode (float values).\n",
        "        window (int): Window size for moving average smoothing.\n",
        "    \"\"\"\n",
        "    if not isinstance(steps, (list, np.ndarray)):\n",
        "        raise TypeError(\"'steps' must be a list or NumPy array.\")\n",
        "\n",
        "    steps = np.array(steps, dtype=float)\n",
        "    if len(steps) == 0:\n",
        "        raise ValueError(\"Error: 'steps' must be a non-empty array.\")\n",
        "\n",
        "    window = min(len(steps), window)  # Ensure window does not exceed array length\n",
        "    avg_steps = moving_avg(steps, window)\n",
        "    avg_x_steps = np.arange(len(avg_steps))\n",
        "\n",
        "    plt.figure(figsize=(12, 5), dpi=100)\n",
        "    plt.plot(np.arange(len(steps)), steps, label=\"Episode Steps\", color=\"gray\", alpha=0.3)\n",
        "    plt.plot(avg_x_steps, avg_steps, label=f\"Moving Avg ({window})\", color=\"blue\", linewidth=2)\n",
        "    plt.fill_between(avg_x_steps, avg_steps * 0.97, avg_steps * 1.02, color=\"blue\", alpha=0.2)\n",
        "    plt.title(\"Training Progress: Steps per Episode\", fontsize=14, fontweight=\"bold\")\n",
        "    plt.xlabel(\"Episode\")\n",
        "    plt.ylabel(\"Steps\")\n",
        "    plt.legend()\n",
        "    plt.grid(True, linestyle=\"--\", alpha=0.6)\n",
        "    plt.show()\n"
      ]
    },
    {
      "cell_type": "code",
      "source": [
        "def plot_comparison_rewards(rewards_algo1, rewards_algo2, algo1_name=\"Algorithm 1\", algo2_name=\"Algorithm 2\", window=100):\n",
        "    \"\"\"\n",
        "    Plots a comparison of training rewards for two different algorithms.\n",
        "\n",
        "    Args:\n",
        "        rewards_algo1 (np.array): Rewards per episode for algorithm 1.\n",
        "        rewards_algo2 (np.array): Rewards per episode for algorithm 2.\n",
        "        algo1_name (str): Name of the first algorithm.\n",
        "        algo2_name (str): Name of the second algorithm.\n",
        "        window (int): Window size for moving average smoothing.\n",
        "    \"\"\"\n",
        "    rewards_algo1 = np.array(rewards_algo1, dtype=float)\n",
        "    rewards_algo2 = np.array(rewards_algo2, dtype=float)\n",
        "\n",
        "    window = min(len(rewards_algo1), len(rewards_algo2), window)  # Ensure window does not exceed data length\n",
        "    avg_rewards_1 = moving_avg(rewards_algo1, window)\n",
        "    avg_rewards_2 = moving_avg(rewards_algo2, window)\n",
        "\n",
        "    avg_x = np.arange(len(avg_rewards_1))\n",
        "\n",
        "    plt.figure(figsize=(12, 5), dpi=100)\n",
        "    plt.plot(np.arange(len(rewards_algo1)), rewards_algo1, label=f\"{algo1_name} (Raw)\", color=\"gray\", alpha=0.3)\n",
        "    plt.plot(avg_x, avg_rewards_1, label=f\"{algo1_name} (Moving Avg)\", color=\"crimson\", linewidth=2)\n",
        "\n",
        "    plt.plot(np.arange(len(rewards_algo2)), rewards_algo2, label=f\"{algo2_name} (Raw)\", color=\"gray\", alpha=0.3)\n",
        "    plt.plot(avg_x, avg_rewards_2, label=f\"{algo2_name} (Moving Avg)\", color=\"blue\", linewidth=2)\n",
        "\n",
        "    plt.title(\"Comparison of Training Rewards\", fontsize=14, fontweight=\"bold\")\n",
        "    plt.xlabel(\"Episode\")\n",
        "    plt.ylabel(\"Reward\")\n",
        "    plt.legend()\n",
        "    plt.grid(True, linestyle=\"--\", alpha=0.6)\n",
        "    plt.show()\n",
        "\n",
        "def plot_comparison_steps(steps_algo1, steps_algo2, algo1_name=\"Algorithm 1\", algo2_name=\"Algorithm 2\", window=100):\n",
        "    \"\"\"\n",
        "    Plots a comparison of training steps for two different algorithms.\n",
        "\n",
        "    Args:\n",
        "        steps_algo1 (np.array): Steps per episode for algorithm 1.\n",
        "        steps_algo2 (np.array): Steps per episode for algorithm 2.\n",
        "        algo1_name (str): Name of the first algorithm.\n",
        "        algo2_name (str): Name of the second algorithm.\n",
        "        window (int): Window size for moving average smoothing.\n",
        "    \"\"\"\n",
        "    steps_algo1 = np.array(steps_algo1, dtype=float)\n",
        "    steps_algo2 = np.array(steps_algo2, dtype=float)\n",
        "\n",
        "    window = min(len(steps_algo1), len(steps_algo2), window)  # Ensure window does not exceed data length\n",
        "    avg_steps_1 = moving_avg(steps_algo1, window)\n",
        "    avg_steps_2 = moving_avg(steps_algo2, window)\n",
        "\n",
        "    avg_x = np.arange(len(avg_steps_1))\n",
        "\n",
        "    plt.figure(figsize=(12, 5), dpi=100)\n",
        "    plt.plot(np.arange(len(steps_algo1)), steps_algo1, label=f\"{algo1_name} (Raw)\", color=\"gray\", alpha=0.3)\n",
        "    plt.plot(avg_x, avg_steps_1, label=f\"{algo1_name} (Moving Avg)\", color=\"crimson\", linewidth=2)\n",
        "\n",
        "    plt.plot(np.arange(len(steps_algo2)), steps_algo2, label=f\"{algo2_name} (Raw)\", color=\"gray\", alpha=0.3)\n",
        "    plt.plot(avg_x, avg_steps_2, label=f\"{algo2_name} (Moving Avg)\", color=\"blue\", linewidth=2)\n",
        "\n",
        "    plt.title(\"Comparison of Steps per Episode\", fontsize=14, fontweight=\"bold\")\n",
        "    plt.xlabel(\"Episode\")\n",
        "    plt.ylabel(\"Steps\")\n",
        "    plt.legend()\n",
        "    plt.grid(True, linestyle=\"--\", alpha=0.6)\n",
        "    plt.show()\n"
      ],
      "metadata": {
        "id": "4uTZ7iy9L3Zb"
      },
      "execution_count": null,
      "outputs": []
    },
    {
      "cell_type": "code",
      "execution_count": null,
      "metadata": {
        "id": "wsjVujlLyiDE"
      },
      "outputs": [],
      "source": [
        "def plot_training_losses(losses, window=25, use_log_scale=False):\n",
        "    \"\"\"\n",
        "    Plots training loss progression.\n",
        "\n",
        "    Args:\n",
        "        losses (np.array): Loss values over training (very small float values).\n",
        "        window (int): Window size for moving average smoothing.\n",
        "        use_log_scale (bool): If True, uses log scale for better visualization.\n",
        "    \"\"\"\n",
        "    if not isinstance(losses, (list, np.ndarray)):\n",
        "        raise TypeError(\"'losses' must be a list or NumPy array.\")\n",
        "\n",
        "    losses = np.array(losses, dtype=float)\n",
        "\n",
        "    if len(losses) == 0:\n",
        "        raise ValueError(\"Error: 'losses' must be a non-empty array.\")\n",
        "\n",
        "    window = min(len(losses), window)  # Ensure window does not exceed array length\n",
        "\n",
        "    fig, ax = plt.subplots(figsize=(12, 6), dpi=100)\n",
        "\n",
        "    # Compute running average safely\n",
        "    def moving_avg(data, window):\n",
        "        if len(data) < window:\n",
        "            return np.full(len(data), np.mean(data))  # Handle small arrays\n",
        "        return np.convolve(data, np.ones(window) / window, mode='valid')\n",
        "\n",
        "    avg_losses = moving_avg(losses, window)\n",
        "    avg_x_losses = np.arange(len(avg_losses))\n",
        "\n",
        "    # Plot Losses\n",
        "    ax.plot(np.arange(len(losses)), losses, label=\"Loss per Update\", color=\"gray\", alpha=0.3)\n",
        "    ax.plot(avg_x_losses, avg_losses, label=f\"Moving Avg ({window})\", color=\"blue\", linewidth=2)\n",
        "    ax.fill_between(avg_x_losses, avg_losses * 0.95, avg_losses * 1.05, color=\"blue\", alpha=0.2)\n",
        "\n",
        "    ax.set_title(\"Training Progress: Loss\", fontsize=14, fontweight=\"bold\")\n",
        "    ax.set_xlabel(\"Training Step\")\n",
        "    ax.set_ylabel(\"Loss\")\n",
        "\n",
        "    # Apply log scale if needed\n",
        "    if use_log_scale:\n",
        "        ax.set_yscale(\"log\")\n",
        "        ax.set_title(\"Training Progress: Loss (Log Scale)\", fontsize=14, fontweight=\"bold\")\n",
        "\n",
        "    ax.legend()\n",
        "    ax.grid(True, linestyle=\"--\", alpha=0.6)\n",
        "\n",
        "    plt.tight_layout()\n",
        "    plt.show()\n",
        "\n"
      ]
    },
    {
      "cell_type": "code",
      "execution_count": null,
      "metadata": {
        "id": "dfLQcxWuypFo"
      },
      "outputs": [],
      "source": [
        "# Re-defining the required functions before splitting them\n",
        "\n",
        "import numpy as np\n",
        "import matplotlib.pyplot as plt\n",
        "\n",
        "def compute_success_rate(steps_array, window=100):\n",
        "    \"\"\"\n",
        "    Computes the percentage of episodes ending in <120 steps every 100 episodes.\n",
        "\n",
        "    Args:\n",
        "        steps_array (np.array): Array of steps per episode (values between 0 and 120).\n",
        "        window (int): Number of episodes per evaluation window (default=100).\n",
        "\n",
        "    Returns:\n",
        "        np.array: Success rate (%) per window.\n",
        "        np.array: Corresponding episode numbers.\n",
        "    \"\"\"\n",
        "    steps_array = np.array(steps_array, dtype=int)\n",
        "    success_rates = []\n",
        "    episode_indices = []\n",
        "\n",
        "    for i in range(0, len(steps_array), window):\n",
        "        sub_array = steps_array[i:i + window]\n",
        "        early_termination_count = np.sum(sub_array < 120)\n",
        "        success_rate = (early_termination_count / window) * 100\n",
        "        success_rates.append(success_rate)\n",
        "        episode_indices.append(i + window)\n",
        "\n",
        "    return np.array(success_rates), np.array(episode_indices)\n",
        "\n",
        "def compute_step_distribution(steps_array, window=100):\n",
        "    \"\"\"\n",
        "    Computes the percentage of episodes falling into different step ranges in the last 'window' episodes.\n",
        "\n",
        "    Args:\n",
        "        steps_array (np.array or list): Array of steps per episode (values between 0 and 120).\n",
        "        window (int): Number of episodes to analyze (default=100).\n",
        "\n",
        "    Returns:\n",
        "        list: Step range labels.\n",
        "        np.array: Step range percentages.\n",
        "        np.array: Step range counts (occurrences).\n",
        "    \"\"\"\n",
        "    steps_array = np.array(steps_array, dtype=int)\n",
        "    last_episodes = steps_array[max(0, len(steps_array) - window):]  # Ensure we don't index negatively\n",
        "\n",
        "    # Define bins (inclusive of both bounds)\n",
        "    bins = [(30, 39), (40, 49), (50, 59), (60, 69), (70, 79), (80, 89), (90, 99), (100, 109), (110, 119), (120, 120)]\n",
        "    bin_labels = [\"30-39\", \"40-49\", \"50-59\", \"60-69\", \"70-79\", \"80-89\", \"90-99\", \"100-109\", \"110-119\", \"120\"]\n",
        "\n",
        "    # Count occurrences in each bin\n",
        "    bin_counts = [\n",
        "        np.sum((last_episodes >= low) & (last_episodes <= high))  # Inclusive condition\n",
        "        for low, high in bins\n",
        "    ]\n",
        "\n",
        "    total_count = len(last_episodes)  # Handle cases where fewer than 'window' episodes exist\n",
        "    bin_percentages = (np.array(bin_counts) / total_count) * 100 if total_count > 0 else np.zeros(len(bin_counts))\n",
        "\n",
        "    return bin_labels, bin_percentages, bin_counts\n",
        "\n",
        "def plot_success_rate(steps_array, window=100):\n",
        "    \"\"\"\n",
        "    Plots a line graph showing the percentage of episodes that ended in <120 steps every 100 episodes.\n",
        "\n",
        "    Args:\n",
        "        steps_array (np.array): Array of steps per episode (values between 0 and 120).\n",
        "        window (int): Number of episodes per evaluation window (default=100).\n",
        "    \"\"\"\n",
        "    success_rates, episode_indices = compute_success_rate(steps_array, window)\n",
        "\n",
        "    plt.figure(figsize=(12, 5), dpi=100)\n",
        "    plt.plot(episode_indices, success_rates, marker=\"o\", linestyle=\"-\", color=\"blue\", linewidth=2)\n",
        "    plt.title(\"Percentage of Episodes Ending in <120 Steps\", fontsize=14, fontweight=\"bold\")\n",
        "    plt.xlabel(\"Episode\", fontsize=12)\n",
        "    plt.ylabel(\"Success Rate (%)\", fontsize=12)\n",
        "    plt.grid(True, linestyle=\"--\", alpha=0.6)\n",
        "    plt.show()\n",
        "\n",
        "def plot_step_distribution(steps_array, window=100):\n",
        "    \"\"\"\n",
        "    Plots a bar chart showing the percentage of steps in specific ranges for the last 100 episodes.\n",
        "\n",
        "    Args:\n",
        "        steps_array (np.array): Array of steps per episode (values between 0 and 120).\n",
        "        window (int): Number of episodes to analyze (default=100).\n",
        "    \"\"\"\n",
        "    bin_labels, bin_percentages, bin_counts = compute_step_distribution(steps_array, window)\n",
        "\n",
        "    plt.figure(figsize=(12, 5), dpi=100)\n",
        "    bars = plt.bar(bin_labels, bin_percentages, color=\"royalblue\", alpha=0.7, edgecolor=\"black\")\n",
        "\n",
        "    # Add count labels above bars\n",
        "    for bar, count in zip(bars, bin_counts):\n",
        "        height = bar.get_height()\n",
        "        plt.text(bar.get_x() + bar.get_width() / 2, height + 1, str(count), ha=\"center\", fontsize=12, fontweight=\"bold\")\n",
        "\n",
        "    plt.title(f\"Step Distribution ({window} Episodes)\", fontsize=14, fontweight=\"bold\")\n",
        "    plt.xlabel(\"Step Ranges\", fontsize=12)\n",
        "    plt.ylabel(\"Percentage (%)\", fontsize=12)\n",
        "    plt.grid(axis=\"y\", linestyle=\"--\", alpha=0.6)\n",
        "    plt.show()\n"
      ]
    },
    {
      "cell_type": "code",
      "source": [
        "import numpy as np\n",
        "import matplotlib.pyplot as plt\n",
        "\n",
        "def plot_epsilon_decay(epsilon_values):\n",
        "    \"\"\"\n",
        "    Plots the decay of epsilon over time.\n",
        "\n",
        "    Args:\n",
        "        epsilon_values (np.array or list): History of epsilon values over training episodes.\n",
        "    \"\"\"\n",
        "    if not isinstance(epsilon_values, (list, np.ndarray)):\n",
        "        raise TypeError(\"'epsilon_values' must be a list or NumPy array.\")\n",
        "\n",
        "    epsilon_values = np.array(epsilon_values, dtype=float)\n",
        "    if len(epsilon_values) == 0:\n",
        "        raise ValueError(\"Error: 'epsilon_values' must be a non-empty array.\")\n",
        "\n",
        "    plt.figure(figsize=(10, 5), dpi=100)\n",
        "    plt.plot(np.arange(len(epsilon_values)), epsilon_values, color=\"blue\", linewidth=2, label=\"Epsilon Decay\")\n",
        "    plt.title(\"Epsilon Decay Over Training\", fontsize=14, fontweight=\"bold\")\n",
        "    plt.xlabel(\"Episode\")\n",
        "    plt.ylabel(\"Epsilon Value\")\n",
        "    plt.legend()\n",
        "    plt.grid(True, linestyle=\"--\", alpha=0.6)\n",
        "    plt.show()\n"
      ],
      "metadata": {
        "id": "t2MVVRoqUgRB"
      },
      "execution_count": null,
      "outputs": []
    },
    {
      "cell_type": "code",
      "source": [
        "def plot_success_rate_comparison(steps_algo1, steps_algo2, algo1_name=\"Algorithm 1\", algo2_name=\"Algorithm 2\", window=100):\n",
        "    \"\"\"\n",
        "    Plots a comparison of the percentage of episodes that ended in <120 steps every 100 episodes for two different algorithms.\n",
        "\n",
        "    Args:\n",
        "        steps_algo1 (np.array): Steps per episode for the first algorithm.\n",
        "        steps_algo2 (np.array): Steps per episode for the second algorithm.\n",
        "        algo1_name (str): Name of the first algorithm.\n",
        "        algo2_name (str): Name of the second algorithm.\n",
        "        window (int): Number of episodes per evaluation window (default=100).\n",
        "    \"\"\"\n",
        "    # Compute success rates for both algorithms\n",
        "    success_rates_1, episode_indices_1 = compute_success_rate(steps_algo1, window)\n",
        "    success_rates_2, episode_indices_2 = compute_success_rate(steps_algo2, window)\n",
        "\n",
        "    # Ensure both arrays have the same length for consistent plotting\n",
        "    min_length = min(len(success_rates_1), len(success_rates_2))\n",
        "    success_rates_1, success_rates_2 = success_rates_1[:min_length], success_rates_2[:min_length]\n",
        "    episode_indices = episode_indices_1[:min_length]  # Use common episode indices\n",
        "\n",
        "    plt.figure(figsize=(12, 5), dpi=100)\n",
        "    plt.plot(episode_indices, success_rates_1, marker=\"o\", linestyle=\"-\", color=\"blue\", linewidth=2, label=f\"{algo1_name}\")\n",
        "    plt.plot(episode_indices, success_rates_2, marker=\"s\", linestyle=\"--\", color=\"red\", linewidth=2, label=f\"{algo2_name}\")\n",
        "\n",
        "    plt.title(\"Comparison of Success Rate (<120 Steps per Episode)\", fontsize=14, fontweight=\"bold\")\n",
        "    plt.xlabel(\"Episode\", fontsize=12)\n",
        "    plt.ylabel(\"Success Rate (%)\", fontsize=12)\n",
        "    plt.legend()\n",
        "    plt.grid(True, linestyle=\"--\", alpha=0.6)\n",
        "    plt.show()\n"
      ],
      "metadata": {
        "id": "kKgl5dM5FmOJ"
      },
      "execution_count": null,
      "outputs": []
    },
    {
      "cell_type": "code",
      "source": [
        "def plot_epsilon_comparison(epsilon_algo1, epsilon_algo2, algo1_name=\"Algorithm 1\", algo2_name=\"Algorithm 2\"):\n",
        "    \"\"\"\n",
        "    Plots the epsilon decay for two different algorithms.\n",
        "\n",
        "    Args:\n",
        "        epsilon_algo1 (np.array or list): Epsilon values for the first algorithm.\n",
        "        epsilon_algo2 (np.array or list): Epsilon values for the second algorithm.\n",
        "        algo1_name (str): Name of the first algorithm.\n",
        "        algo2_name (str): Name of the second algorithm.\n",
        "    \"\"\"\n",
        "    if not isinstance(epsilon_algo1, (list, np.ndarray)) or not isinstance(epsilon_algo2, (list, np.ndarray)):\n",
        "        raise TypeError(\"'epsilon_algo1' and 'epsilon_algo2' must be lists or NumPy arrays.\")\n",
        "\n",
        "    epsilon_algo1 = np.array(epsilon_algo1, dtype=float)\n",
        "    epsilon_algo2 = np.array(epsilon_algo2, dtype=float)\n",
        "\n",
        "    if len(epsilon_algo1) == 0 or len(epsilon_algo2) == 0:\n",
        "        raise ValueError(\"Error: 'epsilon_algo1' and 'epsilon_algo2' must be non-empty arrays.\")\n",
        "\n",
        "    plt.figure(figsize=(10, 5), dpi=100)\n",
        "    plt.plot(np.arange(len(epsilon_algo1)), epsilon_algo1, color=\"blue\", linewidth=2, label=f\"{algo1_name} Epsilon\")\n",
        "    plt.plot(np.arange(len(epsilon_algo2)), epsilon_algo2, color=\"red\", linewidth=2, linestyle=\"--\", label=f\"{algo2_name} Epsilon\")\n",
        "    plt.title(\"Comparison of Epsilon Decay\", fontsize=14, fontweight=\"bold\")\n",
        "    plt.xlabel(\"Episode\")\n",
        "    plt.ylabel(\"Epsilon Value\")\n",
        "    plt.legend()\n",
        "    plt.grid(True, linestyle=\"--\", alpha=0.6)\n",
        "    plt.show()\n"
      ],
      "metadata": {
        "id": "BGCNMmlNUjWV"
      },
      "execution_count": null,
      "outputs": []
    },
    {
      "cell_type": "code",
      "source": [
        "# Re-import necessary libraries after execution state reset\n",
        "import numpy as np\n",
        "import matplotlib.pyplot as plt\n",
        "\n",
        "def plot_loss_comparison(losses_algo1, losses_algo2, algo1_name=\"Algorithm 1\", algo2_name=\"Algorithm 2\", window=25, use_log_scale=False):\n",
        "    \"\"\"\n",
        "    Plots a comparison of training loss progression for two different algorithms.\n",
        "\n",
        "    Args:\n",
        "        losses_algo1 (np.array): Loss values for the first algorithm.\n",
        "        losses_algo2 (np.array): Loss values for the second algorithm.\n",
        "        algo1_name (str): Name of the first algorithm.\n",
        "        algo2_name (str): Name of the second algorithm.\n",
        "        window (int): Window size for moving average smoothing.\n",
        "        use_log_scale (bool): If True, uses log scale for better visualization.\n",
        "    \"\"\"\n",
        "    if not isinstance(losses_algo1, (list, np.ndarray)) or not isinstance(losses_algo2, (list, np.ndarray)):\n",
        "        raise TypeError(\"'losses_algo1' and 'losses_algo2' must be lists or NumPy arrays.\")\n",
        "\n",
        "    losses_algo1 = np.array(losses_algo1, dtype=float)\n",
        "    losses_algo2 = np.array(losses_algo2, dtype=float)\n",
        "\n",
        "    if len(losses_algo1) == 0 or len(losses_algo2) == 0:\n",
        "        raise ValueError(\"Error: 'losses_algo1' and 'losses_algo2' must be non-empty arrays.\")\n",
        "\n",
        "    # Ensure both arrays have the same length by trimming to the shortest length\n",
        "    min_length = min(len(losses_algo1), len(losses_algo2))\n",
        "    losses_algo1 = losses_algo1[:min_length]\n",
        "    losses_algo2 = losses_algo2[:min_length]\n",
        "\n",
        "    window = min(min_length, window)  # Ensure window does not exceed data length\n",
        "\n",
        "    # Compute running averages\n",
        "    def moving_avg(data, window):\n",
        "        if len(data) < window:\n",
        "            return np.full(len(data), np.mean(data))  # Handle small arrays\n",
        "        return np.convolve(data, np.ones(window) / window, mode='valid')\n",
        "\n",
        "    avg_losses_1 = moving_avg(losses_algo1, window)\n",
        "    avg_losses_2 = moving_avg(losses_algo2, window)\n",
        "\n",
        "    avg_x = np.arange(len(avg_losses_1))\n",
        "\n",
        "    plt.figure(figsize=(12, 6), dpi=100)\n",
        "    plt.plot(np.arange(len(losses_algo1)), losses_algo1, label=f\"{algo1_name} (Raw)\", color=\"gray\", alpha=0.3)\n",
        "    plt.plot(avg_x, avg_losses_1, label=f\"{algo1_name} (Moving Avg)\", color=\"blue\", linewidth=2)\n",
        "\n",
        "    plt.plot(np.arange(len(losses_algo2)), losses_algo2, label=f\"{algo2_name} (Raw)\", color=\"gray\", alpha=0.3)\n",
        "    plt.plot(avg_x, avg_losses_2, label=f\"{algo2_name} (Moving Avg)\", color=\"red\", linewidth=2)\n",
        "\n",
        "    plt.title(\"Comparison of Training Loss\", fontsize=14, fontweight=\"bold\")\n",
        "    plt.xlabel(\"Training Step\")\n",
        "    plt.ylabel(\"Loss\")\n",
        "\n",
        "    if use_log_scale:\n",
        "        plt.yscale(\"log\")\n",
        "        plt.title(\"Comparison of Training Loss (Log Scale)\", fontsize=14, fontweight=\"bold\")\n",
        "\n",
        "    plt.legend()\n",
        "    plt.grid(True, linestyle=\"--\", alpha=0.6)\n",
        "    plt.show()\n"
      ],
      "metadata": {
        "id": "XUPzXF3bvmjE"
      },
      "execution_count": null,
      "outputs": []
    },
    {
      "cell_type": "markdown",
      "metadata": {
        "id": "R-GqBbW31xxx"
      },
      "source": [
        "## Project"
      ]
    },
    {
      "cell_type": "code",
      "execution_count": null,
      "metadata": {
        "id": "Mm-UqPo3WkkZ",
        "outputId": "20ed10dc-9e56-46e7-aa2a-6dfdff07e723",
        "colab": {
          "base_uri": "https://localhost:8080/"
        }
      },
      "outputs": [
        {
          "output_type": "stream",
          "name": "stdout",
          "text": [
            "mkdir: cannot create directory ‘models’: File exists\n",
            "mkdir: cannot create directory ‘plots’: File exists\n"
          ]
        }
      ],
      "source": [
        "!mkdir models\n",
        "!mkdir plots\n",
        "!mkdir -p tiles\n",
        "!wget -q \"https://www.dropbox.com/scl/fi/mrbmkff4eneute9hm6x7p/yellow_tile_close.npy?rlkey=9nl2wi865pqr7nub8qteko4n3&st=mrkcj2br&dl=0\" -O tiles/yellow_tiles_close.npy\n",
        "!wget -q \"https://www.dropbox.com/scl/fi/ohe2wby8906kyagqihl7i/tile_open.npy?rlkey=tcnixs088td3yg4pz7qryc6ml&st=l8z38edp&dl=0\" -O tiles/yellow_tiles_open.npy"
      ]
    },
    {
      "cell_type": "markdown",
      "metadata": {
        "id": "gHBpxJ5QPrib"
      },
      "source": [
        "## Preprocess"
      ]
    },
    {
      "cell_type": "markdown",
      "metadata": {
        "id": "5pKCHS8SJS32"
      },
      "source": [
        "By analyzing the environment, we realized that extracting the tile containing the **door** allows us to assign rewards based on the observation."
      ]
    },
    {
      "cell_type": "code",
      "execution_count": null,
      "metadata": {
        "colab": {
          "base_uri": "https://localhost:8080/",
          "height": 326
        },
        "id": "OH-SyiL4XlkK",
        "outputId": "184cb28c-74ee-4e94-b17f-6b603103f02e"
      },
      "outputs": [
        {
          "output_type": "display_data",
          "data": {
            "text/plain": [
              "<Figure size 600x300 with 2 Axes>"
            ],
            "image/png": "[encoded data removed]"
          },
          "metadata": {}
        }
      ],
      "source": [
        "tile_close = np.load('tiles/yellow_tiles_close.npy')\n",
        "tile_open = np.load('tiles/yellow_tiles_open.npy')\n",
        "\n",
        "fig, axes = plt.subplots(1, 2, figsize=(6, 3))\n",
        "\n",
        "axes[0].imshow(tile_close)\n",
        "axes[0].set_title(\"Closed Door\")\n",
        "\n",
        "axes[1].imshow(tile_open)\n",
        "axes[1].set_title(\"Open Door\")\n",
        "\n",
        "plt.tight_layout()\n",
        "plt.show()"
      ]
    },
    {
      "cell_type": "code",
      "execution_count": null,
      "metadata": {
        "id": "xBpFFZ_j7BTc"
      },
      "outputs": [],
      "source": [
        "def show_image(img, title=\"Image\"):\n",
        "    \"\"\"Displays an image without axis.\"\"\"\n",
        "    plt.figure(figsize=(5, 5))\n",
        "    plt.imshow(img)\n",
        "    plt.title(title)\n",
        "    plt.axis(\"off\")\n",
        "    plt.show()\n",
        "\n",
        "def preprocess_observation_check(obs, target_color=(255, 255, 255)):\n",
        "    \"\"\"\n",
        "    Resize and normalize the RGB observation while replacing specific pixels with white.\n",
        "    Then, maps player, door frames to white, walls and green tile remain unchanged, rest of pixels are mapped to black.\n",
        "\n",
        "    Args:\n",
        "        obs (numpy.ndarray): Original RGB observation (H, W, 3).\n",
        "        target_color (tuple): RGB color to replace non-excluded pixels (default is white).\n",
        "\n",
        "    Returns:\n",
        "        numpy.ndarray: Preprocessed observation (3, H, W).\n",
        "    \"\"\"\n",
        "    # Convert target color to NumPy array\n",
        "    target_color = np.array(target_color, dtype=np.uint8)\n",
        "\n",
        "    # Step 1: Convert specific pixels to white\n",
        "    exclude_colors = np.array([\n",
        "        [118, 118, 118],\n",
        "        [99, 99, 99],\n",
        "        [114, 114, 114],\n",
        "        [76, 76, 76],\n",
        "        [75, 75, 75],\n",
        "        [146, 146, 146],\n",
        "        [0, 0, 0],\n",
        "        [33, 33, 33],\n",
        "        [55, 55, 55],\n",
        "        [76, 255, 76]\n",
        "    ], dtype=np.uint8)\n",
        "\n",
        "    # Create a copy to prevent modifying the original image\n",
        "    obs_mod = obs.copy()\n",
        "\n",
        "    # Mask for the first modification\n",
        "    mask = np.ones((obs.shape[0], obs.shape[1]), dtype=bool)\n",
        "    for color in exclude_colors:\n",
        "        mask &= ~np.all(obs == color, axis=-1)  # Exclude specified colors\n",
        "\n",
        "    # Apply first modification (change non-excluded pixels to white)\n",
        "    obs_mod[mask] = target_color\n",
        "\n",
        "    # Show image after first modification\n",
        "    # show_image(obs_mod, \"After First Modification\")\n",
        "\n",
        "    # Step 2: Map all pixels that are not (146,146,146) or (0,0,0) to black\n",
        "    allowed_colors = np.array([\n",
        "        [146, 146, 146],\n",
        "        [255, 255, 255],\n",
        "        [76, 255, 76]\n",
        "    ], dtype=np.uint8)\n",
        "\n",
        "    # Create a mask for allowed colors\n",
        "    black_mask = np.ones((obs_mod.shape[0], obs_mod.shape[1]), dtype=bool)\n",
        "    for color in allowed_colors:\n",
        "        black_mask &= ~np.all(obs_mod == color, axis=-1)\n",
        "\n",
        "    # Set all non-allowed pixels to black\n",
        "    obs_mod[black_mask] = [0, 0, 0]\n",
        "\n",
        "    # Show final image after second modification\n",
        "    # show_image(obs_mod, \"After Second Modification\")\n",
        "\n",
        "    # Transpose to match the expected shape (3, H, W)\n",
        "    obs_mod = np.transpose(obs_mod, (2, 0, 1))\n",
        "\n",
        "    return obs_mod.astype(np.float32)\n"
      ]
    },
    {
      "cell_type": "code",
      "execution_count": null,
      "metadata": {
        "id": "3tKuXtSLc_dZ"
      },
      "outputs": [],
      "source": [
        "def preprocess_frame_stack(state1, state2, state3, state4):\n",
        "    \"\"\"\n",
        "    Preprocesses four states and stacks them into a 4-frame state representation.\n",
        "\n",
        "    Args:\n",
        "        state1 (numpy.ndarray): First state of shape (H, W, 3).\n",
        "        state2 (numpy.ndarray): Second state of shape (H, W, 3).\n",
        "        state3 (numpy.ndarray): Third state of shape (H, W, 3).\n",
        "        state4 (numpy.ndarray): Fourth state of shape (H, W, 3).\n",
        "\n",
        "    Returns:\n",
        "        numpy.ndarray: Stacked frame of shape (12, H, W).\n",
        "    \"\"\"\n",
        "    # Preprocess each individual state\n",
        "    processed_state1 = preprocess_observation_check(state1)  # (3, H, W)\n",
        "    processed_state2 = preprocess_observation_check(state2)  # (3, H, W)\n",
        "    processed_state3 = preprocess_observation_check(state3)  # (3, H, W)\n",
        "    processed_state4 = preprocess_observation_check(state4)  # (3, H, W)\n",
        "\n",
        "    # Stack along the channel dimension (shape becomes (12, H, W))\n",
        "    stacked_state = np.concatenate([processed_state1, processed_state2, processed_state3, processed_state4], axis=0)\n",
        "\n",
        "    return stacked_state  # Shape: (12, H, W)\n",
        "\n"
      ]
    },
    {
      "cell_type": "markdown",
      "metadata": {
        "id": "8Uv0Q3cRPze3"
      },
      "source": [
        "## Reward Shaping"
      ]
    },
    {
      "cell_type": "markdown",
      "metadata": {
        "id": "ptxNnzBdKp2Q"
      },
      "source": [
        "We created helper functions for **reward shaping** that help us perform operations such as: tile extraction, observation comparison, etc."
      ]
    },
    {
      "cell_type": "markdown",
      "metadata": {
        "id": "mvjtFno-Y8bm"
      },
      "source": [
        "#### Helper Functions"
      ]
    },
    {
      "cell_type": "code",
      "execution_count": null,
      "metadata": {
        "id": "6Gvg1LC7Zu3r"
      },
      "outputs": [],
      "source": [
        "def rotate_tile(tile):\n",
        "    \"\"\"\n",
        "    Given an (8,8,3) tile, returns four rotated versions (0°, 90°, 180°, 270°).\n",
        "\n",
        "    Args:\n",
        "        tile (numpy.ndarray): A (8,8,3) RGB tile.\n",
        "\n",
        "    Returns:\n",
        "        list of numpy.ndarray: List containing four rotated tiles.\n",
        "    \"\"\"\n",
        "    if tile.shape != (8,8,3):\n",
        "        raise ValueError(\"Input tile must have shape (8,8,3)\")\n",
        "\n",
        "    rotations = [\n",
        "        tile,  # 0° (original)\n",
        "        np.rot90(tile, k=1),  # 90° counterclockwise\n",
        "        np.rot90(tile, k=2),  # 180°\n",
        "        np.rot90(tile, k=3),  # 270°\n",
        "    ]\n",
        "\n",
        "    return rotations"
      ]
    },
    {
      "cell_type": "code",
      "execution_count": null,
      "metadata": {
        "id": "hM3v7vJMZDqQ"
      },
      "outputs": [],
      "source": [
        "def extract_bottom_center_tile(state):\n",
        "    \"\"\"\n",
        "    Extracts the tile that is in front of the player from a (56, 56, 3) state.\n",
        "\n",
        "    Args:\n",
        "        state (np.ndarray): Input state of shape (56, 56, 3).\n",
        "\n",
        "    Returns:\n",
        "        tile of shape (8, 8, 3).\n",
        "    \"\"\"\n",
        "    assert state.shape == (56, 56, 3), \"Input state must have shape (56, 56, 3)\"\n",
        "\n",
        "    grid_size = 7  # Assuming the state is an 8x8 grid\n",
        "    tile_size = state.shape[0] // grid_size  # Tile dimensions (56/8 = 7)\n",
        "\n",
        "    mid_x = state.shape[1] // 2  # Find the horizontal middle\n",
        "    bottom_y = state.shape[0] - tile_size  # Bottom row starting point\n",
        "\n",
        "    # Extract the tile: bottom-center and the one above it\n",
        "    tile = state[bottom_y-tile_size:bottom_y, mid_x-tile_size//2:mid_x+tile_size//2, :]\n",
        "\n",
        "    return tile"
      ]
    },
    {
      "cell_type": "code",
      "execution_count": null,
      "metadata": {
        "id": "kTUHMvJlaps4"
      },
      "outputs": [],
      "source": [
        "def compare_modified_arrays(arr1, arr2, target_color=(255, 255, 255), if_print=False):\n",
        "    \"\"\"\n",
        "    Modifies copies of two 8x8x3 arrays except for certain colors\n",
        "    and returns True if both arrays are equal after modification.\n",
        "\n",
        "    Args:\n",
        "        arr1 (numpy.ndarray): First 8x8x3 array (RGB image).\n",
        "        arr2 (numpy.ndarray): Second 8x8x3 array (RGB image).\n",
        "        target_color (tuple): RGB color to replace non-excluded pixels (default is white).\n",
        "\n",
        "    Returns:\n",
        "        bool: True if both arrays are identical after modification, False otherwise.\n",
        "    \"\"\"\n",
        "    # Convert target color to a NumPy array\n",
        "    target_color = np.array(target_color, dtype=np.uint8)\n",
        "\n",
        "    # List of colors to exclude from modification\n",
        "    exclude_colors = np.array([\n",
        "        [118, 118, 118],\n",
        "        [114, 114, 114],\n",
        "        [76, 76, 76],\n",
        "        [75, 75, 75]\n",
        "    ], dtype=np.uint8)\n",
        "\n",
        "    # Create copies to prevent modification of original arrays\n",
        "    arr1_mod = arr1.copy()\n",
        "    arr2_mod = arr2.copy()\n",
        "\n",
        "    # Function to create a mask for excluded pixels\n",
        "    def create_mask(arr):\n",
        "        mask = np.ones((arr.shape[0], arr.shape[1]), dtype=bool)  # Start with all True\n",
        "        for color in exclude_colors:\n",
        "            mask &= ~np.all(arr == color, axis=-1)  # Keep False for excluded colors\n",
        "        return mask\n",
        "\n",
        "    # Generate masks for each array\n",
        "    mask1 = create_mask(arr1)\n",
        "    mask2 = create_mask(arr2)\n",
        "\n",
        "    # Modify only non-excluded pixels in the copies\n",
        "    arr1_mod[mask1] = target_color\n",
        "    arr2_mod[mask2] = target_color\n",
        "\n",
        "    # if if_print:\n",
        "    #   show_raw_image(arr1_mod)\n",
        "    #   show_raw_image(arr2_mod)\n",
        "\n",
        "\n",
        "    # Compare the modified arrays\n",
        "    return np.array_equal(arr1_mod, arr2_mod)\n"
      ]
    },
    {
      "cell_type": "markdown",
      "metadata": {
        "id": "Rn5MwQnGMGpz"
      },
      "source": [
        "Applies **reward shaping** to encourage efficient navigation in the environment.\n",
        "\n",
        "The function modifies rewards based on the agent's actions and state transitions, discouraging unnecessary **actions** and **rewarding** progress towards opening doors and moving forward.\n"
      ]
    },
    {
      "cell_type": "markdown",
      "metadata": {
        "id": "CiUMn3aBZBCO"
      },
      "source": [
        "#### Main Function"
      ]
    },
    {
      "cell_type": "markdown",
      "metadata": {
        "id": "RsEIRXH0gCYj"
      },
      "source": [
        "Applies **reward shaping** to encourage efficient navigation in the environment.\n",
        "\n",
        "The function modifies rewards based on the agent's actions and state transitions, discouraging unnecessary actions and rewarding progress towards opening doors and moving forward."
      ]
    },
    {
      "cell_type": "code",
      "execution_count": null,
      "metadata": {
        "id": "uITOQqrCP-6d"
      },
      "outputs": [],
      "source": [
        "from types import new_class\n",
        "import numpy as np\n",
        "\n",
        "def reward_shaping(state_queue, done, truncated, action_queue):\n",
        "    \"\"\"\n",
        "    Args:\n",
        "        state_queue (list): A queue containing the most recent states observed by the agent.\n",
        "        done (bool): Flag indicating whether the episode has ended.\n",
        "        truncated (bool): Flag indicating whether the episode was truncated (optional, unused).\n",
        "        action_queue (list): A queue containing the most recent actions taken by the agent.\n",
        "\n",
        "    Returns:\n",
        "            - reward_shaping (int): The adjusted reward value based on state-action analysis.\n",
        "\n",
        "    Reward Shaping Rules:\n",
        "        - **-2 Penalty**: If the agent remains in the same state for multiple steps.\n",
        "        - **-1 Penalty**: If the agent performs unnecessary actions (`3, 4, 6`).\n",
        "        - **-7 Penalty**: If the agent attempts to open a closed door.\n",
        "        - **+2 Reward**: If the agent successfully opens a door.\n",
        "        - **+1 Reward**: If the agent moves forward after opening a door.\n",
        "        - **+1 Reward**: If the agent moves further forward after opening a door.\n",
        "        - **+50 Reward**: If the episode ends successfully (`done=True`).\n",
        "    \"\"\"\n",
        "\n",
        "    reward_shaping = 0\n",
        "\n",
        "    if len(state_queue) >= 3 and len(action_queue) >= 3:\n",
        "        # Penalize repeated states (getting stuck)\n",
        "        if np.array_equal(state_queue[-1], state_queue[-2]) or \\\n",
        "           np.array_equal(state_queue[-1], state_queue[-3]) or \\\n",
        "           np.array_equal(state_queue[-1], state_queue[-4]):\n",
        "            reward_shaping -= 2  # Penalize staying in the same place\n",
        "\n",
        "    if len(state_queue) >= 2 and len(action_queue) >= 2:\n",
        "        # Penalize unnecessary actions (actions 3, 4, and 6)\n",
        "        if action_queue[-1] in {3, 4, 6}:\n",
        "            reward_shaping -= 1\n",
        "\n",
        "        # Extract front tile information for decision-making\n",
        "        front_tile = extract_bottom_center_tile(state_queue[-1])\n",
        "        prev_front_tile = extract_bottom_center_tile(state_queue[-2])\n",
        "        prev_prev_front_tile = extract_bottom_center_tile(state_queue[-3]) if len(state_queue) >= 3 else None\n",
        "\n",
        "        tile_close_arr = rotate_tile(tile_close)  # Get rotated versions of closed-door tile\n",
        "        tile_open_arr = rotate_tile(tile_open)  # Get rotated versions of open-door tile\n",
        "\n",
        "        # Penalize if the agent tries to close an opened door\n",
        "        if any(compare_modified_arrays(front_tile, rotated_tile) for rotated_tile in tile_close_arr) and action_queue[-1] == 5:\n",
        "            # print(\"closed door\")\n",
        "            reward_shaping -= 7\n",
        "\n",
        "        # Reward the agent for opening a door\n",
        "        elif any(compare_modified_arrays(front_tile, rotated_tile, if_print=False) for rotated_tile in tile_open_arr) and action_queue[-1] == 5:\n",
        "            # print(\"opened door\")\n",
        "            reward_shaping += 2\n",
        "\n",
        "        # Reward for moving forward after opening a door\n",
        "        elif any(compare_modified_arrays(prev_front_tile, rotated_tile) for rotated_tile in tile_open_arr) and \\\n",
        "             action_queue[-1] == 2 and action_queue[-2] == 5:\n",
        "            # print(\"went forward\")\n",
        "            reward_shaping += 1\n",
        "\n",
        "        # Further reward for moving forward twice after opening a door\n",
        "        elif any(compare_modified_arrays(prev_prev_front_tile, rotated_tile) for rotated_tile in tile_open_arr) and \\\n",
        "             action_queue[-1] == 2 and action_queue[-2] == 2 and action_queue[-3] == 5:\n",
        "            # print(\"went forward\")\n",
        "            reward_shaping += 1\n",
        "\n",
        "    # Large reward if the episode successfully completes\n",
        "    if done:\n",
        "        reward_shaping += 50\n",
        "\n",
        "    return reward_shaping\n"
      ]
    },
    {
      "cell_type": "markdown",
      "metadata": {
        "id": "eMRUif3HWApu"
      },
      "source": [
        "## Agent implementations"
      ]
    },
    {
      "cell_type": "markdown",
      "metadata": {
        "id": "mJ9pCUrTPWOa"
      },
      "source": [
        "#### Network"
      ]
    },
    {
      "cell_type": "markdown",
      "metadata": {
        "id": "F27D2shFptpC"
      },
      "source": [
        "##### D3QN Network"
      ]
    },
    {
      "cell_type": "code",
      "execution_count": null,
      "metadata": {
        "id": "vZNa9ws0PcFY"
      },
      "outputs": [],
      "source": [
        "import os\n",
        "import torch as T\n",
        "import torch.nn as nn\n",
        "import torch.nn.functional as F\n",
        "import torch.optim as optim\n",
        "import numpy as np\n",
        "\n",
        "class DuelingDeepQNetwork(nn.Module):\n",
        "    \"\"\"\n",
        "    A Dueling Deep Q-Network (Dueling DQN) implementation using PyTorch.\n",
        "    This network separates state-value estimation from action-advantage estimation\n",
        "    to improve learning efficiency in reinforcement learning tasks.\n",
        "    \"\"\"\n",
        "    def __init__(self, lr, n_actions, name, input_dims, chkpt_dir):\n",
        "        \"\"\"\n",
        "        Initializes the Dueling DQN model.\n",
        "\n",
        "        Parameters:\n",
        "        - lr (float): Learning rate for the optimizer.\n",
        "        - n_actions (int): Number of possible actions in the environment.\n",
        "        - name (str): Name of the model (used for checkpoint saving/loading).\n",
        "        - input_dims (tuple): Dimensions of the input state (e.g., for image-based inputs).\n",
        "        - chkpt_dir (str): Directory to store model checkpoints.\n",
        "        \"\"\"\n",
        "        super(DuelingDeepQNetwork, self).__init__()\n",
        "\n",
        "        # File paths for saving and loading checkpoints\n",
        "        self.checkpoint_dir = chkpt_dir\n",
        "        self.checkpoint_file = os.path.join(self.checkpoint_dir, name)\n",
        "\n",
        "        # Convolutional layers for feature extraction\n",
        "        self.conv1 = nn.Conv2d(input_dims[0], 32, 8, stride=4)\n",
        "        self.conv2 = nn.Conv2d(32, 64, 4, stride=2)\n",
        "        self.conv3 = nn.Conv2d(64, 64, 3, stride=1)\n",
        "\n",
        "        # Compute the size of the flattened output from conv layers\n",
        "        fc_input_dims = self.calculate_conv_output_dims(input_dims)\n",
        "\n",
        "        # Fully connected layers for feature processing\n",
        "        self.fc1 = nn.Linear(fc_input_dims, 1024)\n",
        "        self.fc2 = nn.Linear(1024, 512)\n",
        "\n",
        "        # State-value function output (V(s))\n",
        "        self.V = nn.Linear(512, 1)\n",
        "\n",
        "        # Action-advantage function output (A(s, a))\n",
        "        self.A = nn.Linear(512, n_actions)\n",
        "\n",
        "        # Optimizer and loss function\n",
        "        self.optimizer = optim.RMSprop(self.parameters(), lr=lr)\n",
        "        self.loss = nn.MSELoss()\n",
        "\n",
        "        # Set the computation device (GPU if available, otherwise CPU)\n",
        "        self.device = T.device('cuda:0' if T.cuda.is_available() else 'cpu')\n",
        "        self.to(self.device)\n",
        "\n",
        "    def calculate_conv_output_dims(self, input_dims):\n",
        "        \"\"\"\n",
        "        Computes the output size of the convolutional layers dynamically\n",
        "        to determine the required input size for the fully connected layers.\n",
        "\n",
        "        Parameters:\n",
        "        - input_dims (tuple): Dimensions of the input state.\n",
        "\n",
        "        Returns:\n",
        "        - int: The flattened size of the convolutional output.\n",
        "        \"\"\"\n",
        "        state = T.zeros(1, *input_dims)\n",
        "        dims = self.conv1(state)\n",
        "        dims = self.conv2(dims)\n",
        "        dims = self.conv3(dims)\n",
        "        return int(np.prod(dims.size()))\n",
        "\n",
        "    def forward(self, state):\n",
        "        \"\"\"\n",
        "        Defines the forward pass of the Dueling DQN.\n",
        "\n",
        "        Parameters:\n",
        "        - state (torch.Tensor): The input state tensor.\n",
        "\n",
        "        Returns:\n",
        "        - V (torch.Tensor): The estimated state-value function output.\n",
        "        - A (torch.Tensor): The estimated action-advantage function output.\n",
        "        \"\"\"\n",
        "        conv1 = F.relu(self.conv1(state))\n",
        "        conv2 = F.relu(self.conv2(conv1))\n",
        "        conv3 = F.relu(self.conv3(conv2))\n",
        "\n",
        "        conv_state = conv3.view(conv3.size()[0], -1)  # Flatten conv layer output\n",
        "        flat1 = F.relu(self.fc1(conv_state))\n",
        "        flat2 = F.relu(self.fc2(flat1))\n",
        "\n",
        "        V = self.V(flat2)  # State-value estimation\n",
        "        A = self.A(flat2)  # Action-advantage estimation\n",
        "\n",
        "        return V, A\n",
        "\n",
        "    def save_checkpoint(self):\n",
        "        \"\"\"\n",
        "        Saves the model parameters to a checkpoint file.\n",
        "        \"\"\"\n",
        "        print('... saving checkpoint ...')\n",
        "        T.save(self.state_dict(), self.checkpoint_file)\n",
        "\n",
        "    def load_checkpoint(self):\n",
        "        \"\"\"\n",
        "        Loads model parameters from a checkpoint file.\n",
        "        \"\"\"\n",
        "        print('... loading checkpoint ...')\n",
        "        self.load_state_dict(T.load(self.checkpoint_file))"
      ]
    },
    {
      "cell_type": "markdown",
      "source": [
        "##### Double DQN Network"
      ],
      "metadata": {
        "id": "KfMJ6xQgvhrx"
      }
    },
    {
      "cell_type": "code",
      "source": [
        "import os\n",
        "import torch as T\n",
        "import torch.nn as nn\n",
        "import torch.nn.functional as F\n",
        "import torch.optim as optim\n",
        "import numpy as np\n",
        "\n",
        "class DeepQNetwork(nn.Module):\n",
        "    \"\"\"\n",
        "    A Deep Q-Network (DQN) implementation using PyTorch.\n",
        "    This network processes state inputs through convolutional layers\n",
        "    and outputs Q-values for each action in a discrete action space.\n",
        "    \"\"\"\n",
        "    def __init__(self, lr, n_actions, name, input_dims, chkpt_dir):\n",
        "        \"\"\"\n",
        "        Initializes the Deep Q-Network model.\n",
        "\n",
        "        Parameters:\n",
        "        - lr (float): Learning rate for the optimizer.\n",
        "        - n_actions (int): Number of possible actions in the environment.\n",
        "        - name (str): Name of the model (used for checkpoint saving/loading).\n",
        "        - input_dims (tuple): Dimensions of the input state.\n",
        "        - chkpt_dir (str): Directory to store model checkpoints.\n",
        "        \"\"\"\n",
        "        super(DeepQNetwork, self).__init__()\n",
        "\n",
        "        self.checkpoint_dir = chkpt_dir\n",
        "        self.checkpoint_file = os.path.join(self.checkpoint_dir, name)\n",
        "\n",
        "        # Convolutional layers for feature extraction\n",
        "        self.conv1 = nn.Conv2d(input_dims[0], 32, 8, stride=4)\n",
        "        self.conv2 = nn.Conv2d(32, 64, 4, stride=2)\n",
        "        self.conv3 = nn.Conv2d(64, 64, 3, stride=1)\n",
        "\n",
        "        # Compute the size of the flattened output from conv layers\n",
        "        fc_input_dims = self.calculate_conv_output_dims(input_dims)\n",
        "\n",
        "        # Fully connected layers for Q-value estimation\n",
        "        self.fc1 = nn.Linear(fc_input_dims, 1024)\n",
        "        self.fc2 = nn.Linear(1024, 512)\n",
        "        self.fc3 = nn.Linear(512, n_actions)  # Single output layer for Q-values\n",
        "\n",
        "        # Optimizer and loss function\n",
        "        self.optimizer = optim.RMSprop(self.parameters(), lr=lr)\n",
        "        self.loss = nn.MSELoss()\n",
        "\n",
        "        # Set the computation device (GPU if available, otherwise CPU)\n",
        "        self.device = T.device('cuda:0' if T.cuda.is_available() else 'cpu')\n",
        "        self.to(self.device)\n",
        "\n",
        "    def calculate_conv_output_dims(self, input_dims):\n",
        "        \"\"\"\n",
        "        Computes the output size of the convolutional layers dynamically\n",
        "        to determine the required input size for the fully connected layers.\n",
        "\n",
        "        Parameters:\n",
        "        - input_dims (tuple): Dimensions of the input state.\n",
        "\n",
        "        Returns:\n",
        "        - int: The flattened size of the convolutional output.\n",
        "        \"\"\"\n",
        "        state = T.zeros(1, *input_dims)\n",
        "        dims = self.conv1(state)\n",
        "        dims = self.conv2(dims)\n",
        "        dims = self.conv3(dims)\n",
        "        return int(np.prod(dims.size()))\n",
        "\n",
        "    def forward(self, state):\n",
        "        \"\"\"\n",
        "        Defines the forward pass of the Deep Q-Network.\n",
        "\n",
        "        Parameters:\n",
        "        - state (torch.Tensor): The input state tensor.\n",
        "\n",
        "        Returns:\n",
        "        - Q (torch.Tensor): The estimated Q-values for each possible action.\n",
        "        \"\"\"\n",
        "        conv1 = F.relu(self.conv1(state))\n",
        "        conv2 = F.relu(self.conv2(conv1))\n",
        "        conv3 = F.relu(self.conv3(conv2))\n",
        "\n",
        "        conv_state = conv3.view(conv3.size()[0], -1)  # Flatten conv layer output\n",
        "        flat1 = F.relu(self.fc1(conv_state))\n",
        "        flat2 = F.relu(self.fc2(flat1))\n",
        "\n",
        "        Q = self.fc3(flat2)  # Directly output Q-values for all actions\n",
        "\n",
        "        return Q\n",
        "\n",
        "    def save_checkpoint(self):\n",
        "        \"\"\"\n",
        "        Saves the model parameters to a checkpoint file.\n",
        "        \"\"\"\n",
        "        print('... saving checkpoint ...')\n",
        "        T.save(self.state_dict(), self.checkpoint_file)\n",
        "\n",
        "    def load_checkpoint(self):\n",
        "        \"\"\"\n",
        "        Loads model parameters from a checkpoint file.\n",
        "        \"\"\"\n",
        "        print('... loading checkpoint ...')\n",
        "        self.load_state_dict(T.load(self.checkpoint_file))\n"
      ],
      "metadata": {
        "id": "3RwlhZJzvk4f"
      },
      "execution_count": null,
      "outputs": []
    },
    {
      "cell_type": "markdown",
      "source": [
        "##### PPO Network"
      ],
      "metadata": {
        "id": "rCdPVAc1NCg6"
      }
    },
    {
      "cell_type": "code",
      "source": [
        "import os\n",
        "import torch as T\n",
        "import torch.nn as nn\n",
        "import torch.optim as optim\n",
        "import torch.nn.functional as F\n",
        "from torch.distributions import Categorical\n",
        "\n",
        "class SharedPPO(nn.Module):\n",
        "    \"\"\"\n",
        "    A Shared Policy Proximal Optimization (PPO) network using PyTorch.\n",
        "    This architecture features a shared convolutional base for both actor and critic,\n",
        "    improving efficiency in environments with image-based inputs.\n",
        "    \"\"\"\n",
        "    def __init__(self, n_actions, input_dims, alpha,\n",
        "                 fc1_dims=256, fc2_dims=256, chkpt_dir='models'):\n",
        "        \"\"\"\n",
        "        Initializes the Shared PPO network.\n",
        "\n",
        "        Parameters:\n",
        "        - n_actions (int): Number of possible actions in the environment.\n",
        "        - input_dims (tuple): Dimensions of the input state.\n",
        "        - alpha (float): Learning rate for the optimizer.\n",
        "        - fc1_dims (int, optional): Number of neurons in the first fully connected layer. Default is 256.\n",
        "        - fc2_dims (int, optional): Number of neurons in the second fully connected layer. Default is 256.\n",
        "        - chkpt_dir (str, optional): Directory to store model checkpoints. Default is 'models'.\n",
        "        \"\"\"\n",
        "        super(SharedPPO, self).__init__()\n",
        "\n",
        "        self.checkpoint_file = os.path.join(chkpt_dir, 'shared_ppo')\n",
        "\n",
        "        # Shared CNN Base\n",
        "        self.conv1 = nn.Conv2d(input_dims[0], 32, kernel_size=8, stride=4)\n",
        "        self.conv2 = nn.Conv2d(32, 64, kernel_size=4, stride=2)\n",
        "        self.conv3 = nn.Conv2d(64, 64, kernel_size=3, stride=1)\n",
        "\n",
        "        # Compute the size of the flattened output from conv layers\n",
        "        fc_input_dims = self.calculate_conv_output_dims(input_dims)\n",
        "\n",
        "        # Actor Head\n",
        "        self.actor_fc1 = nn.Linear(fc_input_dims, fc1_dims)\n",
        "        self.actor_fc2 = nn.Linear(fc1_dims, fc2_dims)\n",
        "        self.actor_out = nn.Linear(fc2_dims, n_actions)\n",
        "\n",
        "        # Critic Head\n",
        "        self.critic_fc1 = nn.Linear(fc_input_dims, fc1_dims)\n",
        "        self.critic_fc2 = nn.Linear(fc1_dims, fc2_dims)\n",
        "        self.critic_out = nn.Linear(fc2_dims, 1)\n",
        "\n",
        "        # Optimizer\n",
        "        self.optimizer = optim.Adam(self.parameters(), lr=alpha)\n",
        "\n",
        "        # Set computation device\n",
        "        self.device = T.device('cuda:0' if T.cuda.is_available() else 'cpu')\n",
        "        self.to(self.device)\n",
        "\n",
        "    def calculate_conv_output_dims(self, input_dims):\n",
        "        \"\"\"\n",
        "        Computes the output size of the convolutional layers dynamically\n",
        "        to determine the required input size for the fully connected layers.\n",
        "\n",
        "        Parameters:\n",
        "        - input_dims (tuple): Dimensions of the input state.\n",
        "\n",
        "        Returns:\n",
        "        - int: The flattened size of the convolutional output.\n",
        "        \"\"\"\n",
        "        state = T.zeros(1, *input_dims)\n",
        "        dims = self.conv1(state)\n",
        "        dims = self.conv2(dims)\n",
        "        dims = self.conv3(dims)\n",
        "        return int(np.prod(dims.size()))\n",
        "\n",
        "    def forward(self, state):\n",
        "        \"\"\"\n",
        "        Defines the forward pass of the Shared PPO network.\n",
        "\n",
        "        Parameters:\n",
        "        - state (torch.Tensor): The input state tensor.\n",
        "\n",
        "        Returns:\n",
        "        - Categorical(action_probs): A probability distribution over actions.\n",
        "        - value (torch.Tensor): The estimated state-value function output.\n",
        "        \"\"\"\n",
        "        # Convolutional layers\n",
        "        conv1 = F.relu(self.conv1(state))\n",
        "        conv2 = F.relu(self.conv2(conv1))\n",
        "        conv3 = F.relu(self.conv3(conv2))\n",
        "\n",
        "        # Flattening\n",
        "        conv_state = conv3.view(conv3.size(0), -1)\n",
        "\n",
        "        # Actor network\n",
        "        actor = F.relu(self.actor_fc1(conv_state))\n",
        "        actor = F.relu(self.actor_fc2(actor))\n",
        "        action_probs = F.softmax(self.actor_out(actor), dim=-1)\n",
        "\n",
        "        # Critic network\n",
        "        critic = F.relu(self.critic_fc1(conv_state))\n",
        "        critic = F.relu(self.critic_fc2(critic))\n",
        "        value = self.critic_out(critic)\n",
        "\n",
        "        return Categorical(action_probs), value  # Action distribution and state value\n",
        "\n",
        "    def save_checkpoint(self):\n",
        "        \"\"\"\n",
        "        Saves the model parameters to a checkpoint file.\n",
        "        \"\"\"\n",
        "        print('... saving checkpoint ...')\n",
        "        T.save(self.state_dict(), self.checkpoint_file)\n",
        "\n",
        "    def load_checkpoint(self):\n",
        "        \"\"\"\n",
        "        Loads model parameters from a checkpoint file.\n",
        "        \"\"\"\n",
        "        print('... loading checkpoint ...')\n",
        "        self.load_state_dict(T.load(self.checkpoint_file))"
      ],
      "metadata": {
        "id": "8BQvHKy4NE9A"
      },
      "execution_count": null,
      "outputs": []
    },
    {
      "cell_type": "markdown",
      "metadata": {
        "id": "-Pzm9lw5Oegm"
      },
      "source": [
        "#### Repaly Buffer"
      ]
    },
    {
      "cell_type": "markdown",
      "source": [
        "##### DQN's Replay Buffer"
      ],
      "metadata": {
        "id": "VIIe4iNINPrA"
      }
    },
    {
      "cell_type": "code",
      "execution_count": null,
      "metadata": {
        "id": "MvPZF2SqOd3d"
      },
      "outputs": [],
      "source": [
        "import numpy as np\n",
        "\n",
        "class ReplayBuffer(object):\n",
        "    \"\"\"\n",
        "    A Replay Buffer implementation for experience replay in reinforcement learning.\n",
        "    It stores past experiences (state transitions) and allows for random sampling\n",
        "    to stabilize training by decorrelating consecutive experiences.\n",
        "    \"\"\"\n",
        "    def __init__(self, max_size, input_shape, n_actions):\n",
        "        \"\"\"\n",
        "        Initializes the Replay Buffer.\n",
        "\n",
        "        Parameters:\n",
        "        - max_size (int): Maximum number of experiences to store in the buffer.\n",
        "        - input_shape (tuple): Shape of the state observations.\n",
        "        - n_actions (int): Number of possible actions in the environment.\n",
        "        \"\"\"\n",
        "        self.mem_size = max_size\n",
        "        self.mem_cntr = 0  # Counter to track the number of stored transitions\n",
        "\n",
        "        # Memory buffers for storing transitions\n",
        "        self.state_memory = np.zeros((self.mem_size, *input_shape),\n",
        "                                     dtype=np.float32)\n",
        "        self.new_state_memory = np.zeros((self.mem_size, *input_shape),\n",
        "                                         dtype=np.float32)\n",
        "        self.action_memory = np.zeros(self.mem_size, dtype=np.int64)\n",
        "        self.reward_memory = np.zeros(self.mem_size, dtype=np.float32)\n",
        "        self.terminal_memory = np.zeros(self.mem_size, dtype=bool)\n",
        "\n",
        "    def store_transition(self, state, action, reward, state_, done):\n",
        "        \"\"\"\n",
        "        Stores a transition (experience) in the replay buffer.\n",
        "\n",
        "        Parameters:\n",
        "        - state (numpy.ndarray): The initial state before taking the action.\n",
        "        - action (int): The action taken by the agent.\n",
        "        - reward (float): The reward received after taking the action.\n",
        "        - state_ (numpy.ndarray): The next state after the action.\n",
        "        - done (bool): Whether the episode ended after this transition.\n",
        "        \"\"\"\n",
        "        index = self.mem_cntr % self.mem_size  # Circular buffer indexing\n",
        "\n",
        "        self.state_memory[index] = state\n",
        "        self.new_state_memory[index] = state_\n",
        "        self.action_memory[index] = action\n",
        "        self.reward_memory[index] = reward\n",
        "        self.terminal_memory[index] = done\n",
        "\n",
        "        self.mem_cntr += 1  # Increment counter for next insertion\n",
        "\n",
        "    def sample_buffer(self, batch_size):\n",
        "        \"\"\"\n",
        "        Samples a batch of experiences randomly from the replay buffer.\n",
        "\n",
        "        Parameters:\n",
        "        - batch_size (int): Number of experiences to sample.\n",
        "\n",
        "        Returns:\n",
        "        - states (numpy.ndarray): Batch of sampled states.\n",
        "        - actions (numpy.ndarray): Batch of sampled actions.\n",
        "        - rewards (numpy.ndarray): Batch of sampled rewards.\n",
        "        - states_ (numpy.ndarray): Batch of sampled next states.\n",
        "        - terminal (numpy.ndarray): Batch of terminal flags (episode ended or not).\n",
        "        \"\"\"\n",
        "        max_mem = min(self.mem_cntr, self.mem_size)  # Ensure valid sampling range\n",
        "        batch = np.random.choice(max_mem, batch_size, replace=False)  # Random batch selection\n",
        "\n",
        "        states = self.state_memory[batch]\n",
        "        actions = self.action_memory[batch]\n",
        "        rewards = self.reward_memory[batch]\n",
        "        states_ = self.new_state_memory[batch]\n",
        "        terminal = self.terminal_memory[batch]\n",
        "\n",
        "        return states, actions, rewards, states_, terminal"
      ]
    },
    {
      "cell_type": "markdown",
      "source": [
        "##### PPO Memory"
      ],
      "metadata": {
        "id": "VbABNcmSNT1P"
      }
    },
    {
      "cell_type": "code",
      "source": [
        "import numpy as np\n",
        "\n",
        "class PPOMemory:\n",
        "    \"\"\"\n",
        "    A memory buffer for storing experiences in Proximal Policy Optimization (PPO).\n",
        "    This class facilitates storing and batching experiences for training.\n",
        "    \"\"\"\n",
        "    def __init__(self, batch_size):\n",
        "        \"\"\"\n",
        "        Initializes the PPO memory buffer.\n",
        "\n",
        "        Parameters:\n",
        "        - batch_size (int): Number of experiences per training batch.\n",
        "        \"\"\"\n",
        "        self.states = []  # List to store observed states\n",
        "        self.probs = []   # List to store action probabilities\n",
        "        self.vals = []    # List to store state values\n",
        "        self.actions = [] # List to store taken actions\n",
        "        self.rewards = [] # List to store received rewards\n",
        "        self.dones = []   # List to store episode termination flags\n",
        "        self.batch_size = batch_size  # Batch size for training\n",
        "\n",
        "    def generate_batches(self):\n",
        "        \"\"\"\n",
        "        Generates shuffled training batches from stored memory.\n",
        "\n",
        "        Returns:\n",
        "        - state_arr (numpy.ndarray): Array of stored states.\n",
        "        - action_arr (numpy.ndarray): Array of stored actions.\n",
        "        - old_prob_arr (numpy.ndarray): Array of stored action probabilities.\n",
        "        - vals_arr (numpy.ndarray): Array of stored state values.\n",
        "        - reward_arr (numpy.ndarray): Array of stored rewards.\n",
        "        - dones_arr (numpy.ndarray): Array of stored termination flags.\n",
        "        - batches (list of numpy.ndarray): List of shuffled batch indices.\n",
        "        \"\"\"\n",
        "        n_states = len(self.states)  # Number of stored experiences\n",
        "\n",
        "        # Convert lists to NumPy arrays\n",
        "        state_arr = np.array([s for s in self.states])\n",
        "        action_arr = np.array(self.actions)\n",
        "        old_prob_arr = np.array(self.probs)\n",
        "        vals_arr = np.array(self.vals)\n",
        "        reward_arr = np.array(self.rewards)\n",
        "        dones_arr = np.array(self.dones)\n",
        "\n",
        "        # Generate randomized batch indices\n",
        "        indices = np.arange(n_states, dtype=np.int32)\n",
        "        np.random.shuffle(indices)\n",
        "        batch_start = np.arange(0, n_states, self.batch_size)\n",
        "        batches = [indices[i:i + self.batch_size] for i in batch_start]\n",
        "\n",
        "        return state_arr, action_arr, old_prob_arr, vals_arr, reward_arr, dones_arr, batches\n",
        "\n",
        "    def store_memory(self, state, action, probs, vals, reward, done):\n",
        "        \"\"\"\n",
        "        Stores a single experience in memory.\n",
        "\n",
        "        Parameters:\n",
        "        - state (numpy.ndarray): The observed state.\n",
        "        - action (int): The action taken.\n",
        "        - probs (float): The probability of selecting the action.\n",
        "        - vals (float): The estimated state value.\n",
        "        - reward (float): The received reward.\n",
        "        - done (bool): Whether the episode ended.\n",
        "        \"\"\"\n",
        "        self.states.append(state)\n",
        "        self.actions.append(action)\n",
        "        self.probs.append(probs)\n",
        "        self.vals.append(vals)\n",
        "        self.rewards.append(reward)\n",
        "        self.dones.append(done)\n",
        "\n",
        "    def clear_memory(self):\n",
        "        \"\"\"\n",
        "        Clears all stored experiences from memory.\n",
        "        \"\"\"\n",
        "        self.states = []\n",
        "        self.probs = []\n",
        "        self.actions = []\n",
        "        self.rewards = []\n",
        "        self.dones = []\n",
        "        self.vals = []"
      ],
      "metadata": {
        "id": "FyejauSPNWFB"
      },
      "execution_count": null,
      "outputs": []
    },
    {
      "cell_type": "markdown",
      "metadata": {
        "id": "y-AUP9l5qWcq"
      },
      "source": [
        "###Agents"
      ]
    },
    {
      "cell_type": "markdown",
      "metadata": {
        "id": "28veyblIPoch"
      },
      "source": [
        "#### Dueling Agent"
      ]
    },
    {
      "cell_type": "code",
      "execution_count": null,
      "metadata": {
        "id": "ISH7sPL0Pp68"
      },
      "outputs": [],
      "source": [
        "import numpy as np\n",
        "import torch as T\n",
        "class DuelingDDQNAgent(object):\n",
        "    \"\"\"\n",
        "    A Dueling Double Deep Q-Network (DDQN) Agent for Reinforcement Learning.\n",
        "    This agent implements experience replay, epsilon-greedy action selection,\n",
        "    and soft target network updates.\n",
        "    \"\"\"\n",
        "    def __init__(self, gamma, epsilon, lr, n_actions, input_dims,\n",
        "                 mem_size, batch_size, eps_min=0.01, eps_dec=5e-7,\n",
        "                 tau=0.005, algo=None, env_name=None, chkpt_dir='tmp/dqn'):\n",
        "        \"\"\"\n",
        "        Initializes the Dueling DDQN agent.\n",
        "\n",
        "        Parameters:\n",
        "        - gamma (float): Discount factor for future rewards.\n",
        "        - epsilon (float): Initial exploration rate for epsilon-greedy action selection.\n",
        "        - lr (float): Learning rate for the neural network.\n",
        "        - n_actions (int): Number of possible actions in the environment.\n",
        "        - input_dims (tuple): Dimensions of the input state.\n",
        "        - mem_size (int): Maximum size of the replay buffer.\n",
        "        - batch_size (int): Number of samples per training batch.\n",
        "        - eps_min (float, optional): Minimum value of epsilon. Default is 0.01.\n",
        "        - eps_dec (float, optional): Decay rate of epsilon. Default is 5e-7.\n",
        "        - tau (float, optional): Soft update parameter for the target network. Default is 0.005.\n",
        "        - algo (str, optional): Algorithm name for saving/loading. Default is None.\n",
        "        - env_name (str, optional): Environment name for saving/loading. Default is None.\n",
        "        - chkpt_dir (str, optional): Directory for saving checkpoints. Default is 'tmp/dqn'.\n",
        "        \"\"\"\n",
        "        self.gamma = gamma\n",
        "        self.epsilon = epsilon\n",
        "        self.lr = lr\n",
        "        self.n_actions = n_actions\n",
        "        self.input_dims = input_dims\n",
        "        self.batch_size = batch_size\n",
        "        self.eps_min = eps_min\n",
        "        self.eps_dec = eps_dec\n",
        "        self.tau = tau  # Soft update parameter\n",
        "        self.algo = algo\n",
        "        self.env_name = env_name\n",
        "        self.chkpt_dir = chkpt_dir\n",
        "        self.action_space = [i for i in range(n_actions)]\n",
        "        self.learn_step_counter = 0\n",
        "\n",
        "        # Initialize replay buffer\n",
        "        self.memory = ReplayBuffer(mem_size, input_dims, n_actions)\n",
        "\n",
        "        # Initialize evaluation and target networks\n",
        "        self.q_eval = DuelingDeepQNetwork(self.lr, self.n_actions,\n",
        "                        input_dims=self.input_dims,\n",
        "                        name=self.env_name+'_'+self.algo+'_q_eval',\n",
        "                        chkpt_dir=self.chkpt_dir)\n",
        "        self.q_next = DuelingDeepQNetwork(self.lr, self.n_actions,\n",
        "                        input_dims=self.input_dims,\n",
        "                        name=self.env_name+'_'+self.algo+'_q_next',\n",
        "                        chkpt_dir=self.chkpt_dir)\n",
        "\n",
        "    def store_transition(self, state, action, reward, state_, done):\n",
        "        \"\"\"\n",
        "        Stores an experience in the replay buffer.\n",
        "        \"\"\"\n",
        "        self.memory.store_transition(state, action, reward, state_, done)\n",
        "\n",
        "    def sample_memory(self):\n",
        "        \"\"\"\n",
        "        Samples a batch of experiences from the replay buffer.\n",
        "\n",
        "        Returns:\n",
        "        - states, actions, rewards, states_, dones (Tensors):\n",
        "          Sampled batch data for training.\n",
        "        \"\"\"\n",
        "        state, action, reward, new_state, done = self.memory.sample_buffer(self.batch_size)\n",
        "\n",
        "        states = T.tensor(state).to(self.q_eval.device)\n",
        "        rewards = T.tensor(reward).to(self.q_eval.device)\n",
        "        dones = T.tensor(done).to(self.q_eval.device)\n",
        "        actions = T.tensor(action).to(self.q_eval.device)\n",
        "        states_ = T.tensor(new_state).to(self.q_eval.device)\n",
        "\n",
        "        return states, actions, rewards, states_, dones\n",
        "\n",
        "    def choose_action(self, observation):\n",
        "        \"\"\"\n",
        "        Selects an action using epsilon-greedy policy.\n",
        "        \"\"\"\n",
        "        if np.random.random() > self.epsilon:\n",
        "            state = np.array([observation], dtype=np.float32)\n",
        "            state_tensor = T.tensor(state).to(self.q_eval.device)\n",
        "            _, advantages = self.q_eval.forward(state_tensor)\n",
        "            action = T.argmax(advantages).item()\n",
        "        else:\n",
        "            action = np.random.choice(self.action_space)\n",
        "        return action\n",
        "\n",
        "    def choose_best_action(self, observation):\n",
        "        \"\"\"\n",
        "        Selects the best action based on the learned policy (greedy policy).\n",
        "        \"\"\"\n",
        "        state = np.array([observation], dtype=np.float32)\n",
        "        state_tensor = T.tensor(state).to(self.q_eval.device)\n",
        "        _, advantages = self.q_eval.forward(state_tensor)\n",
        "        action = T.argmax(advantages).item()\n",
        "        return action\n",
        "\n",
        "    def soft_update_target_network(self):\n",
        "        \"\"\"\n",
        "        Performs a soft update of the target network parameters using:\n",
        "        θ_target = τ * θ_eval + (1 - τ) * θ_target\n",
        "        \"\"\"\n",
        "        for target_param, eval_param in zip(self.q_next.parameters(), self.q_eval.parameters()):\n",
        "            target_param.data.copy_(self.tau * eval_param.data + (1.0 - self.tau) * target_param.data)\n",
        "\n",
        "    def decrement_epsilon(self):\n",
        "        \"\"\"\n",
        "        Decreases the epsilon value to reduce exploration over time.\n",
        "        \"\"\"\n",
        "        self.epsilon = self.epsilon - self.eps_dec if self.epsilon > self.eps_min else self.eps_min\n",
        "\n",
        "    def learn(self):\n",
        "        \"\"\"\n",
        "        Performs a training step using experience replay and Dueling DDQN updates.\n",
        "\n",
        "        Returns:\n",
        "        - loss (float): Computed loss for monitoring training.\n",
        "        \"\"\"\n",
        "        if self.memory.mem_cntr < self.batch_size:\n",
        "            return\n",
        "\n",
        "        self.q_eval.optimizer.zero_grad()\n",
        "\n",
        "        states, actions, rewards, states_, dones = self.sample_memory()\n",
        "        indices = np.arange(self.batch_size)\n",
        "\n",
        "        V_s, A_s = self.q_eval.forward(states)\n",
        "        V_s_, A_s_ = self.q_next.forward(states_)\n",
        "        V_s_eval, A_s_eval = self.q_eval.forward(states_)\n",
        "\n",
        "        q_pred = T.add(V_s, (A_s - A_s.mean(dim=1, keepdim=True)))[indices, actions]\n",
        "        q_next = T.add(V_s_, (A_s_ - A_s_.mean(dim=1, keepdim=True)))\n",
        "        q_eval = T.add(V_s_eval, (A_s_eval - A_s_eval.mean(dim=1, keepdim=True)))\n",
        "\n",
        "        max_actions = T.argmax(q_eval, dim=1)\n",
        "        q_next[dones] = 0.0\n",
        "        q_target = rewards + self.gamma * q_next[indices, max_actions]\n",
        "\n",
        "        loss = self.q_eval.loss(q_target, q_pred).to(self.q_eval.device)\n",
        "        loss.backward()\n",
        "        self.q_eval.optimizer.step()\n",
        "\n",
        "        self.learn_step_counter += 1\n",
        "        self.decrement_epsilon()\n",
        "        self.soft_update_target_network()\n",
        "\n",
        "        return loss.item()\n",
        "\n",
        "    def save_models(self):\n",
        "        \"\"\"\n",
        "        Saves model checkpoints.\n",
        "        \"\"\"\n",
        "        self.q_eval.save_checkpoint()\n",
        "        self.q_next.save_checkpoint()\n",
        "\n",
        "    def load_models(self):\n",
        "        \"\"\"\n",
        "        Loads model checkpoints.\n",
        "        \"\"\"\n",
        "        self.q_eval.load_checkpoint()\n",
        "        self.q_next.load_checkpoint()"
      ]
    },
    {
      "cell_type": "markdown",
      "source": [
        "#### Double DQN Agent"
      ],
      "metadata": {
        "id": "48u4ebwcvJnK"
      }
    },
    {
      "cell_type": "code",
      "source": [
        "import numpy as np\n",
        "import torch as T\n",
        "class DoubleDQNAgent(object):\n",
        "    \"\"\"\n",
        "    A Double Deep Q-Network (DDQN) Agent for Reinforcement Learning.\n",
        "    This agent implements experience replay, epsilon-greedy action selection,\n",
        "    and soft target network updates to mitigate overestimation bias.\n",
        "    \"\"\"\n",
        "    def __init__(self, gamma, epsilon, lr, n_actions, input_dims,\n",
        "                 mem_size, batch_size, eps_min=0.01, eps_dec=5e-7,\n",
        "                 tau=0.005, algo=None, env_name=None, chkpt_dir='tmp/dqn'):\n",
        "        \"\"\"\n",
        "        Initializes the Double DQN agent.\n",
        "\n",
        "        Parameters:\n",
        "        - gamma (float): Discount factor for future rewards.\n",
        "        - epsilon (float): Initial exploration rate for epsilon-greedy action selection.\n",
        "        - lr (float): Learning rate for the neural network.\n",
        "        - n_actions (int): Number of possible actions in the environment.\n",
        "        - input_dims (tuple): Dimensions of the input state.\n",
        "        - mem_size (int): Maximum size of the replay buffer.\n",
        "        - batch_size (int): Number of samples per training batch.\n",
        "        - eps_min (float, optional): Minimum value of epsilon. Default is 0.01.\n",
        "        - eps_dec (float, optional): Decay rate of epsilon. Default is 5e-7.\n",
        "        - tau (float, optional): Soft update parameter for the target network. Default is 0.005.\n",
        "        - algo (str, optional): Algorithm name for saving/loading. Default is None.\n",
        "        - env_name (str, optional): Environment name for saving/loading. Default is None.\n",
        "        - chkpt_dir (str, optional): Directory for saving checkpoints. Default is 'tmp/dqn'.\n",
        "        \"\"\"\n",
        "        self.gamma = gamma\n",
        "        self.epsilon = epsilon\n",
        "        self.lr = lr\n",
        "        self.n_actions = n_actions\n",
        "        self.input_dims = input_dims\n",
        "        self.batch_size = batch_size\n",
        "        self.eps_min = eps_min\n",
        "        self.eps_dec = eps_dec\n",
        "        self.tau = tau  # Soft update parameter\n",
        "        self.algo = algo\n",
        "        self.env_name = env_name\n",
        "        self.chkpt_dir = chkpt_dir\n",
        "        self.action_space = [i for i in range(n_actions)]\n",
        "        self.learn_step_counter = 0\n",
        "\n",
        "        # Initialize replay buffer\n",
        "        self.memory = ReplayBuffer(mem_size, input_dims, n_actions)\n",
        "\n",
        "        # Initialize evaluation and target networks\n",
        "        self.q_eval = DeepQNetwork(self.lr, self.n_actions,\n",
        "                        input_dims=self.input_dims,\n",
        "                        name=self.env_name+'_'+self.algo+'_q_eval',\n",
        "                        chkpt_dir=self.chkpt_dir)\n",
        "        self.q_next = DeepQNetwork(self.lr, self.n_actions,\n",
        "                        input_dims=self.input_dims,\n",
        "                        name=self.env_name+'_'+self.algo+'_q_next',\n",
        "                        chkpt_dir=self.chkpt_dir)\n",
        "\n",
        "    def store_transition(self, state, action, reward, state_, done):\n",
        "        \"\"\"\n",
        "        Stores an experience in the replay buffer.\n",
        "        \"\"\"\n",
        "        self.memory.store_transition(state, action, reward, state_, done)\n",
        "\n",
        "    def sample_memory(self):\n",
        "        \"\"\"\n",
        "        Samples a batch of experiences from the replay buffer.\n",
        "\n",
        "        Returns:\n",
        "        - states, actions, rewards, states_, dones (Tensors):\n",
        "          Sampled batch data for training.\n",
        "        \"\"\"\n",
        "        state, action, reward, new_state, done = self.memory.sample_buffer(self.batch_size)\n",
        "\n",
        "        states = T.tensor(state).to(self.q_eval.device)\n",
        "        rewards = T.tensor(reward).to(self.q_eval.device)\n",
        "        dones = T.tensor(done).to(self.q_eval.device)\n",
        "        actions = T.tensor(action).to(self.q_eval.device)\n",
        "        states_ = T.tensor(new_state).to(self.q_eval.device)\n",
        "\n",
        "        return states, actions, rewards, states_, dones\n",
        "\n",
        "    def choose_action(self, observation):\n",
        "        \"\"\"\n",
        "        Selects an action using epsilon-greedy policy.\n",
        "        \"\"\"\n",
        "        if np.random.random() > self.epsilon:\n",
        "            state = np.array([observation], dtype=np.float32)\n",
        "            state_tensor = T.tensor(state).to(self.q_eval.device)\n",
        "            q_values = self.q_eval.forward(state_tensor)\n",
        "            action = T.argmax(q_values).item()\n",
        "        else:\n",
        "            action = np.random.choice(self.action_space)\n",
        "        return action\n",
        "\n",
        "    def choose_best_action(self, observation):\n",
        "        \"\"\"\n",
        "        Selects the best action based on the learned policy (greedy policy).\n",
        "        \"\"\"\n",
        "        state = np.array([observation], dtype=np.float32)\n",
        "        state_tensor = T.tensor(state).to(self.q_eval.device)\n",
        "        q_values = self.q_eval.forward(state_tensor)\n",
        "        action = T.argmax(q_values).item()\n",
        "        return action\n",
        "\n",
        "    def soft_update_target_network(self):\n",
        "        \"\"\"\n",
        "        Performs a soft update of the target network parameters using:\n",
        "        θ_target = τ * θ_eval + (1 - τ) * θ_target\n",
        "        \"\"\"\n",
        "        for target_param, eval_param in zip(self.q_next.parameters(), self.q_eval.parameters()):\n",
        "            target_param.data.copy_(self.tau * eval_param.data + (1.0 - self.tau) * target_param.data)\n",
        "\n",
        "    def decrement_epsilon(self):\n",
        "        \"\"\"\n",
        "        Decreases the epsilon value to reduce exploration over time.\n",
        "        \"\"\"\n",
        "        self.epsilon = self.epsilon - self.eps_dec if self.epsilon > self.eps_min else self.eps_min\n",
        "\n",
        "    def learn(self):\n",
        "        \"\"\"\n",
        "        Performs a training step using experience replay and Double DQN updates.\n",
        "\n",
        "        Returns:\n",
        "        - loss (float): Computed loss for monitoring training.\n",
        "        \"\"\"\n",
        "        if self.memory.mem_cntr < self.batch_size:\n",
        "            return\n",
        "\n",
        "        self.q_eval.optimizer.zero_grad()\n",
        "\n",
        "        states, actions, rewards, states_, dones = self.sample_memory()\n",
        "        indices = np.arange(self.batch_size)\n",
        "\n",
        "        q_pred = self.q_eval.forward(states)[indices, actions]  # Q-values of current state-action pairs\n",
        "        q_next = self.q_next.forward(states_)  # Q-values of next states from target network\n",
        "        q_eval = self.q_eval.forward(states_)  # Q-values of next states from evaluation network\n",
        "\n",
        "        max_actions = T.argmax(q_eval, dim=1)  # Actions chosen by online network\n",
        "        q_next[dones] = 0.0  # If done, set Q-value to zero\n",
        "        q_target = rewards + self.gamma * q_next[indices, max_actions]  # Double DQN update rule\n",
        "\n",
        "        loss = self.q_eval.loss(q_target, q_pred).to(self.q_eval.device)\n",
        "        loss.backward()\n",
        "        self.q_eval.optimizer.step()\n",
        "\n",
        "        self.learn_step_counter += 1\n",
        "        self.decrement_epsilon()\n",
        "        self.soft_update_target_network()\n",
        "\n",
        "        return loss.item()\n",
        "\n",
        "    def save_models(self):\n",
        "        \"\"\"\n",
        "        Saves model checkpoints.\n",
        "        \"\"\"\n",
        "        self.q_eval.save_checkpoint()\n",
        "        self.q_next.save_checkpoint()\n",
        "\n",
        "    def load_models(self):\n",
        "        \"\"\"\n",
        "        Loads model checkpoints.\n",
        "        \"\"\"\n",
        "        self.q_eval.load_checkpoint()\n",
        "        self.q_next.load_checkpoint()\n"
      ],
      "metadata": {
        "id": "4MYJH3TpvMkw"
      },
      "execution_count": null,
      "outputs": []
    },
    {
      "cell_type": "markdown",
      "source": [
        "####  PPO Agent"
      ],
      "metadata": {
        "id": "yan88lxmNcw3"
      }
    },
    {
      "cell_type": "code",
      "source": [
        "import numpy as np\n",
        "import torch as T\n",
        "\n",
        "class PPOAgent:\n",
        "    \"\"\"\n",
        "    A Proximal Policy Optimization (PPO) Agent for Reinforcement Learning.\n",
        "    This agent implements Generalized Advantage Estimation (GAE),\n",
        "    experience replay, and policy updates using a shared actor-critic network.\n",
        "    \"\"\"\n",
        "    def __init__(self, n_actions, input_dims, gamma=0.99, alpha=0.0003, gae_lambda=0.95,\n",
        "                 policy_clip=0.2, batch_size=64, n_epochs=10):\n",
        "        \"\"\"\n",
        "        Initializes the PPO Agent.\n",
        "\n",
        "        Parameters:\n",
        "        - n_actions (int): Number of possible actions in the environment.\n",
        "        - input_dims (tuple): Dimensions of the input state.\n",
        "        - gamma (float, optional): Discount factor for future rewards. Default is 0.99.\n",
        "        - alpha (float, optional): Learning rate for the policy optimizer. Default is 0.0003.\n",
        "        - gae_lambda (float, optional): Lambda for Generalized Advantage Estimation (GAE). Default is 0.95.\n",
        "        - policy_clip (float, optional): Clipping range for PPO's policy ratio. Default is 0.2.\n",
        "        - batch_size (int, optional): Number of samples per training batch. Default is 64.\n",
        "        - n_epochs (int, optional): Number of epochs per learning step. Default is 10.\n",
        "        \"\"\"\n",
        "        self.gamma = gamma\n",
        "        self.policy_clip = policy_clip\n",
        "        self.n_epochs = n_epochs\n",
        "        self.gae_lambda = gae_lambda\n",
        "\n",
        "        # Use Shared Network Instead of Separate Actor & Critic\n",
        "        self.policy = SharedPPO(n_actions, input_dims, alpha)\n",
        "        self.memory = PPOMemory(batch_size)\n",
        "\n",
        "    def remember(self, state, action, probs, vals, reward, done):\n",
        "        \"\"\"\n",
        "        Stores an experience in memory for future training.\n",
        "        \"\"\"\n",
        "        self.memory.store_memory(state, action, probs, vals, reward, done)\n",
        "\n",
        "    def save_models(self):\n",
        "        \"\"\"\n",
        "        Saves the model parameters to a checkpoint file.\n",
        "        \"\"\"\n",
        "        print('... saving model ...')\n",
        "        self.policy.save_checkpoint()\n",
        "\n",
        "    def load_models(self):\n",
        "        \"\"\"\n",
        "        Loads model parameters from a checkpoint file.\n",
        "        \"\"\"\n",
        "        print('... loading model ...')\n",
        "        self.policy.load_checkpoint()\n",
        "\n",
        "    def choose_action(self, observation):\n",
        "        \"\"\"\n",
        "        Selects an action using the shared actor-critic network.\n",
        "\n",
        "        Parameters:\n",
        "        - observation (numpy.ndarray or torch.Tensor): Current state observation.\n",
        "\n",
        "        Returns:\n",
        "        - action (int): Selected action.\n",
        "        - probs (float): Log probability of selected action.\n",
        "        - value (float): Estimated state value.\n",
        "        \"\"\"\n",
        "        if isinstance(observation, np.ndarray):\n",
        "            observation = T.tensor(observation, dtype=T.float)\n",
        "\n",
        "        observation = observation.unsqueeze(0)\n",
        "\n",
        "        # Ensure correct shape for CNN-based input\n",
        "        if observation.shape[-1] == 3:  # If input is (H, W, C)\n",
        "            observation = observation.permute(2, 0, 1).unsqueeze(0)\n",
        "\n",
        "        state = observation.to(self.policy.device)\n",
        "\n",
        "        # Get action distribution and state value from the policy\n",
        "        dist, value = self.policy(state)\n",
        "        action = dist.sample()\n",
        "\n",
        "        # Extract log probability and value estimate\n",
        "        probs = T.squeeze(dist.log_prob(action)).item()\n",
        "        action = T.squeeze(action).item()\n",
        "        value = T.squeeze(value).item()\n",
        "\n",
        "        return action, probs, value\n",
        "\n",
        "    def choose_best_action(self, observation):\n",
        "        # Ensure observation is a NumPy array (if not already)\n",
        "        if isinstance(observation, np.ndarray):\n",
        "            observation = T.tensor(observation, dtype=T.float)\n",
        "\n",
        "        # Add batch dimension\n",
        "        observation = observation.unsqueeze(0)\n",
        "\n",
        "        # Ensure correct shape for CNN: (Batch, Channels, Height, Width)\n",
        "        if observation.shape[-1] == 3:  # If input is (H, W, C)\n",
        "            observation = observation.permute(2, 0, 1).unsqueeze(0)\n",
        "\n",
        "        state = observation.to(self.policy.device)\n",
        "\n",
        "        # Get action distribution and state value from the shared CNN-based policy\n",
        "        dist, value = self.policy(state)\n",
        "\n",
        "        # Get the maximum likelihood action (argmax of probabilities)\n",
        "        action = dist.probs.argmax(dim=-1)  # Greedy action\n",
        "\n",
        "        # Extract value estimate\n",
        "        value = T.squeeze(value).item()\n",
        "\n",
        "        return action.item(), value  # Return best action and its value\n",
        "\n",
        "\n",
        "    def learn(self):\n",
        "        \"\"\"\n",
        "        Performs a training step using experience replay and PPO loss updates.\n",
        "\n",
        "        Returns:\n",
        "        - total_loss (torch.Tensor): Computed loss for monitoring training.\n",
        "        \"\"\"\n",
        "        for _ in range(self.n_epochs):\n",
        "            state_arr, action_arr, old_prob_arr, vals_arr,\n",
        "            reward_arr, dones_arr, batches = \\\n",
        "                self.memory.generate_batches()\n",
        "\n",
        "            values = vals_arr\n",
        "            advantage = np.zeros(len(reward_arr), dtype=np.float32)\n",
        "\n",
        "            # Calculate Generalized Advantage Estimation (GAE)\n",
        "            for t in range(len(reward_arr)-1):\n",
        "                discount = 1\n",
        "                a_t = 0\n",
        "                for k in range(t, len(reward_arr)-1):\n",
        "                    a_t += discount * (reward_arr[k] + self.gamma * values[k+1] *\n",
        "                                       (1 - int(dones_arr[k])) - values[k])\n",
        "                    discount *= self.gamma * self.gae_lambda\n",
        "                advantage[t] = a_t\n",
        "            advantage = T.tensor(advantage).to(self.policy.device)\n",
        "\n",
        "            values = T.tensor(values).to(self.policy.device)\n",
        "            for batch in batches:\n",
        "                states = T.tensor(state_arr[batch], dtype=T.float).to(self.policy.device)\n",
        "                old_probs = T.tensor(old_prob_arr[batch]).to(self.policy.device)\n",
        "                actions = T.tensor(action_arr[batch]).to(self.policy.device)\n",
        "\n",
        "                # Get action distribution and critic value from shared network\n",
        "                dist, critic_value = self.policy(states)\n",
        "                critic_value = T.squeeze(critic_value)\n",
        "\n",
        "                # Compute PPO Loss\n",
        "                new_probs = dist.log_prob(actions)\n",
        "                prob_ratio = new_probs.exp() / old_probs.exp()\n",
        "                weighted_probs = advantage[batch] * prob_ratio\n",
        "                weighted_clipped_probs = T.clamp(prob_ratio, 1 - self.policy_clip,\n",
        "                                                 1 + self.policy_clip) * advantage[batch]\n",
        "                actor_loss = -T.min(weighted_probs, weighted_clipped_probs).mean()\n",
        "\n",
        "                # Compute Critic Loss (Mean Squared Error)\n",
        "                returns = advantage[batch] + values[batch]\n",
        "                critic_loss = (returns - critic_value) ** 2\n",
        "                critic_loss = critic_loss.mean()\n",
        "\n",
        "                # Total Loss\n",
        "                total_loss = actor_loss + 0.5 * critic_loss\n",
        "\n",
        "                # Optimize Shared Policy Network\n",
        "                self.policy.optimizer.zero_grad()\n",
        "                total_loss.backward()\n",
        "                self.policy.optimizer.step()\n",
        "\n",
        "        self.memory.clear_memory()\n",
        "\n",
        "        return total_loss"
      ],
      "metadata": {
        "id": "LOiA3fmANkFm"
      },
      "execution_count": null,
      "outputs": []
    },
    {
      "cell_type": "markdown",
      "source": [
        "# Validation"
      ],
      "metadata": {
        "id": "OGJJJ326xWDD"
      }
    },
    {
      "cell_type": "code",
      "source": [
        "# Create a models folder\n",
        "!mkdir models\n",
        "\n",
        "# Download our models from the dropbox drive.\n",
        "\n",
        "# Double DQN Model\n",
        "!wget -q \"https://www.dropbox.com/scl/fi/owxhv3fzf73bqueulkrs6/MiniGrid_DoubleDQNAgent_with_stacking_q_eval?rlkey=mv7vqwyx59udx8d97d17xu688&st=rcnhf35i&dl=0\" -O models/MiniGrid_DoubleDQNAgent_with_stacking_q_eval\n",
        "!wget -q \"https://www.dropbox.com/scl/fi/5d9z9ia4k3n9ur6122z3v/MiniGrid_DoubleDQNAgent_with_stacking_q_next?rlkey=wvkxz4cxcfetcrja5h137tv6s&st=pfa9nbg3&dl=0\" -O models/MiniGrid_DoubleDQNAgent_with_stacking_q_next\n",
        "\n",
        "# Dueling DDQN Model\n",
        "!wget -q \"https://www.dropbox.com/scl/fi/b04tu0pwydpst0rzzeslk/MiniGrid_DuelingDDQNAgent_with_stacking_q_eval?rlkey=q6f68z8r8t5bm25kzy27o3v8v&st=pe2l8jg6&dl=0\" -O models/MiniGrid_DuelingDDQNAgent_with_stacking_q_eval\n",
        "!wget -q \"https://www.dropbox.com/scl/fi/u4g9y20kz0klbn3qmsya8/MiniGrid_DuelingDDQNAgent_with_stacking_q_next?rlkey=l6awcwdcgu4pa5414ak416x3g&st=2tb7ogzi&dl=0\" -O models/MiniGrid_DuelingDDQNAgent_with_stacking_q_next\n",
        "\n",
        "# PPO Transfer\n",
        "!wget -q \"https://www.dropbox.com/scl/fi/uz2oyw8di96htg2tk5ven/shared_ppo?rlkey=0pctybzs3jde9xbuz3xl1th92&st=92fdikj8&dl=0\" -O models/shared_ppo\n",
        "\n"
      ],
      "metadata": {
        "colab": {
          "base_uri": "https://localhost:8080/"
        },
        "id": "VFvQ1Avz2ppZ",
        "outputId": "f3deee22-e92d-4644-9bae-5e950895b8b9"
      },
      "execution_count": null,
      "outputs": [
        {
          "output_type": "stream",
          "name": "stdout",
          "text": [
            "mkdir: cannot create directory ‘models’: File exists\n"
          ]
        }
      ]
    },
    {
      "cell_type": "code",
      "source": [
        "# Declare Agents.\n",
        "DuelingAgent = DuelingDDQNAgent(\n",
        "    gamma=0.99,             # discount factor (commonly set to 0.99)\n",
        "    epsilon=1.0,            # start with full exploration\n",
        "    lr=0.0003,             # slightly higher learning rate is common for DQN variants\n",
        "    n_actions=6,\n",
        "    input_dims=(12, 56, 56),  # correctly ordered input dimensions for RGB images\n",
        "    mem_size=50000,        # large replay buffer to capture diverse experiences\n",
        "    batch_size=128,          # larger batch size often improves stability\n",
        "    eps_min=0.01,           # minimal exploration to avoid getting stuck\n",
        "    eps_dec=0.0001,           # slower decay allows for longer exploration over training\n",
        "    tau=0.005,           # update target network every 1000 steps (adjust if needed)\n",
        "    algo='DuelingDDQNAgent_with_stacking',\n",
        "    env_name='MiniGrid',\n",
        "    chkpt_dir='models/'\n",
        ")\n",
        "\n",
        "DoubleAgent = DoubleDQNAgent(\n",
        "    gamma=0.99,             # discount factor (commonly set to 0.99)\n",
        "    epsilon=1.0,            # start with full exploration\n",
        "    lr=0.0003,             # slightly higher learning rate is common for DQN variants\n",
        "    n_actions=6,\n",
        "    input_dims=(12, 56, 56),  # correctly ordered input dimensions for RGB images\n",
        "    mem_size=50000,        # large replay buffer to capture diverse experiences\n",
        "    batch_size=128,          # larger batch size often improves stability\n",
        "    eps_min=0.01,           # minimal exploration to avoid getting stuck\n",
        "    eps_dec=0.0001,           # slower decay allows for longer exploration over training\n",
        "    tau=0.005,           # update target network every 1000 steps (adjust if needed)\n",
        "    algo='DoubleDQNAgent_with_stacking',\n",
        "    env_name='MiniGrid',\n",
        "    chkpt_dir='models/'\n",
        ")\n",
        "\n",
        "agentPPO = PPOAgent(n_actions=6, batch_size=512,\n",
        "                alpha=0.0001, n_epochs=5,\n",
        "                input_dims=(3, 56, 56), gamma=0.995)"
      ],
      "metadata": {
        "id": "nPAAXK2dxYqg"
      },
      "execution_count": null,
      "outputs": []
    },
    {
      "cell_type": "code",
      "source": [
        "# Load policies\n",
        "DuelingAgent.load_models()\n",
        "DoubleAgent.load_models()\n",
        "agentPPO.load_models()"
      ],
      "metadata": {
        "colab": {
          "base_uri": "https://localhost:8080/"
        },
        "id": "i_o05yEmCLgD",
        "outputId": "2a73e726-7e7b-4d1f-d3a0-a0ed88d7f45e"
      },
      "execution_count": null,
      "outputs": [
        {
          "output_type": "stream",
          "name": "stdout",
          "text": [
            "... loading checkpoint ...\n",
            "... loading checkpoint ...\n",
            "... loading checkpoint ...\n",
            "... loading checkpoint ...\n",
            "... loading model ...\n",
            "... loading checkpoint ...\n"
          ]
        }
      ]
    },
    {
      "cell_type": "code",
      "source": [
        "# Setup Enviroment.\n",
        "env = gymnasium.make(\"MiniGrid-MultiRoom-N6-v0\", render_mode=render_mode, highlight=highlight)\n",
        "env = RGBImgPartialObsWrapper(env)\n",
        "env = ImgObsWrapper(env)"
      ],
      "metadata": {
        "id": "p9YP9woOBFD8"
      },
      "execution_count": null,
      "outputs": []
    },
    {
      "cell_type": "code",
      "source": [
        "num_of_runs = 1000 # @param {type:\"slider\", min:0, max:1000, step:1}\n"
      ],
      "metadata": {
        "id": "Dc0h4OZpCYrW"
      },
      "execution_count": null,
      "outputs": []
    },
    {
      "cell_type": "code",
      "source": [
        "import numpy as np\n",
        "from collections import deque\n",
        "\n",
        "# Validate Double DQN\n",
        "double_rewards, double_steps = validate_agent_DQN(DoubleAgent, num_of_runs, \"double_video\")\n",
        "\n",
        "# Validate Dueling DDQN\n",
        "dueling_rewards, dueling_steps = validate_agent_DQN(DuelingAgent, num_of_runs, \"dueling_video\")\n",
        "\n",
        "# Validate PPO\n",
        "ppo_rewards, ppo_steps = validate_agent_PPO(agentPPO, num_of_runs, \"ppo_video\")"
      ],
      "metadata": {
        "id": "mCPRaeH547-h"
      },
      "execution_count": null,
      "outputs": []
    },
    {
      "cell_type": "markdown",
      "source": [
        "<br>\n",
        "<h1>Double DQN - Plot Distribution </h1>\n",
        "<br>"
      ],
      "metadata": {
        "id": "cjtPPr1OW5f3"
      }
    },
    {
      "cell_type": "code",
      "source": [
        "# Plot graph.\n",
        "plot_step_distribution(double_steps, num_of_runs)"
      ],
      "metadata": {
        "colab": {
          "base_uri": "https://localhost:8080/",
          "height": 492
        },
        "id": "R0UxrwgCPQWn",
        "outputId": "4404dc66-fbbe-4d7f-9d6f-183c29d3ef0b"
      },
      "execution_count": null,
      "outputs": [
        {
          "output_type": "display_data",
          "data": {
            "text/plain": [
              "<Figure size 1200x500 with 1 Axes>"
            ],
            "image/png": "[encoded data removed]"
          },
          "metadata": {}
        }
      ]
    },
    {
      "cell_type": "markdown",
      "source": [
        "<br>\n",
        "<h1>Dueling DDQN - Plot Distribution </h1>\n",
        "<br>"
      ],
      "metadata": {
        "id": "ypxh3BRUXdn-"
      }
    },
    {
      "cell_type": "code",
      "source": [
        "plot_step_distribution(dueling_steps, num_of_runs)"
      ],
      "metadata": {
        "colab": {
          "base_uri": "https://localhost:8080/",
          "height": 492
        },
        "id": "ytvJp_7plf6W",
        "outputId": "a866c967-dc7e-415e-9796-11a39f847549"
      },
      "execution_count": null,
      "outputs": [
        {
          "output_type": "display_data",
          "data": {
            "text/plain": [
              "<Figure size 1200x500 with 1 Axes>"
            ],
            "image/png": "[encoded data removed]"
          },
          "metadata": {}
        }
      ]
    },
    {
      "cell_type": "markdown",
      "source": [
        "<br>\n",
        "<h1>PPO - Plot Distribution </h1>\n",
        "<br>"
      ],
      "metadata": {
        "id": "1Y1hMfBIXgIG"
      }
    },
    {
      "cell_type": "code",
      "source": [
        "plot_step_distribution(ppo_steps, num_of_runs)"
      ],
      "metadata": {
        "colab": {
          "base_uri": "https://localhost:8080/",
          "height": 492
        },
        "id": "3Pv6oTE-lgNs",
        "outputId": "d06af617-705d-4de6-e62a-c2895252a11f"
      },
      "execution_count": null,
      "outputs": [
        {
          "output_type": "display_data",
          "data": {
            "text/plain": [
              "<Figure size 1200x500 with 1 Axes>"
            ],
            "image/png": "[encoded data removed]"
          },
          "metadata": {}
        }
      ]
    },
    {
      "cell_type": "code",
      "source": [
        "# Create Videos\n",
        "create_video_DQN(DoubleAgent, \"double_video\")\n",
        "create_video_DQN(DuelingAgent, \"dueling_video\")\n",
        "create_video_PPO(agentPPO, \"ppo_video\")"
      ],
      "metadata": {
        "colab": {
          "base_uri": "https://localhost:8080/"
        },
        "id": "WIyLreHLmsYA",
        "outputId": "b06a569f-254e-42eb-9bc0-c4700bd02165"
      },
      "execution_count": null,
      "outputs": [
        {
          "output_type": "execute_result",
          "data": {
            "text/plain": [
              "([], [])"
            ]
          },
          "metadata": {},
          "execution_count": 74
        }
      ]
    },
    {
      "cell_type": "markdown",
      "source": [
        "<br>\n",
        "<h1>Double DQN - Video </h1>\n",
        "<br>"
      ],
      "metadata": {
        "id": "1SE3GZsHc6iM"
      }
    },
    {
      "cell_type": "code",
      "source": [
        "embed_mp4(\"double_video.mp4\")\n"
      ],
      "metadata": {
        "colab": {
          "base_uri": "https://localhost:8080/",
          "height": 501
        },
        "id": "ZC6bENRMj3js",
        "outputId": "5e36c8ba-6581-479a-ef3b-a91cb741b56e"
      },
      "execution_count": null,
      "outputs": [
        {
          "output_type": "execute_result",
          "data": {
            "text/plain": [
              "<IPython.core.display.HTML object>"
            ],
            "text/html": [
              "\n",
              "  <video width=\"640\" height=\"480\" controls>\n",
              "    <source src=\"data:video/mp4;base64,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\" type=\"video/mp4\">\n",
              "  Your browser does not support the video tag.\n",
              "  </video>"
            ]
          },
          "metadata": {},
          "execution_count": 75
        }
      ]
    },
    {
      "cell_type": "markdown",
      "source": [
        "<br>\n",
        "<h1>Dueling DDQN - Video </h1>\n",
        "<br>"
      ],
      "metadata": {
        "id": "i3YjK6CWdg-D"
      }
    },
    {
      "cell_type": "code",
      "source": [
        "embed_mp4(\"dueling_video.mp4\")"
      ],
      "metadata": {
        "colab": {
          "base_uri": "https://localhost:8080/",
          "height": 501
        },
        "id": "a-HK4uEWlEnP",
        "outputId": "45c31a4e-7d96-428d-9e1b-b0b1148371e8"
      },
      "execution_count": null,
      "outputs": [
        {
          "output_type": "execute_result",
          "data": {
            "text/plain": [
              "<IPython.core.display.HTML object>"
            ],
            "text/html": [
              "\n",
              "  <video width=\"640\" height=\"480\" controls>\n",
              "    <source src=\"data:video/mp4;base64,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\" type=\"video/mp4\">\n",
              "  Your browser does not support the video tag.\n",
              "  </video>"
            ]
          },
          "metadata": {},
          "execution_count": 76
        }
      ]
    },
    {
      "cell_type": "markdown",
      "source": [
        "<br>\n",
        "<h1>PPO - Video </h1>\n",
        "<br>"
      ],
      "metadata": {
        "id": "rAv61VVTdjoq"
      }
    },
    {
      "cell_type": "code",
      "source": [
        "embed_mp4(\"ppo_video.mp4\")"
      ],
      "metadata": {
        "colab": {
          "base_uri": "https://localhost:8080/",
          "height": 501
        },
        "id": "43oDqQyQlFHe",
        "outputId": "43894b93-e77a-4f21-aace-59ba96c61406"
      },
      "execution_count": null,
      "outputs": [
        {
          "output_type": "execute_result",
          "data": {
            "text/plain": [
              "<IPython.core.display.HTML object>"
            ],
            "text/html": [
              "\n",
              "  <video width=\"640\" height=\"480\" controls>\n",
              "    <source src=\"data:video/mp4;base64,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\" type=\"video/mp4\">\n",
              "  Your browser does not support the video tag.\n",
              "  </video>"
            ]
          },
          "metadata": {},
          "execution_count": 77
        }
      ]
    }
  ],
  "metadata": {
    "accelerator": "GPU",
    "colab": {
      "gpuType": "T4",
      "toc_visible": true,
      "provenance": [],
      "collapsed_sections": [
        "mvjtFno-Y8bm",
        "mJ9pCUrTPWOa",
        "F27D2shFptpC",
        "KfMJ6xQgvhrx",
        "rCdPVAc1NCg6",
        "-Pzm9lw5Oegm",
        "VIIe4iNINPrA",
        "VbABNcmSNT1P"
      ]
    },
    "kernelspec": {
      "display_name": "Python 3",
      "name": "python3"
    },
    "language_info": {
      "codemirror_mode": {
        "name": "ipython",
        "version": 3
      },
      "file_extension": ".py",
      "mimetype": "text/x-python",
      "name": "python",
      "nbconvert_exporter": "python",
      "pygments_lexer": "ipython3",
      "version": "3.13.1"
    }
  },
  "nbformat": 4,
  "nbformat_minor": 0
}